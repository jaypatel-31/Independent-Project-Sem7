{
  "cells": [
    {
      "cell_type": "markdown",
      "metadata": {
        "id": "ElHiPzneAlDl"
      },
      "source": [
        "<b><h2> CROP YIELD PREDICTION IN INDIA </h2></b>\n",
        "\n",
        "Predicting yield helps the state to get an estimate of the crop in a\n",
        "certain year to control the price rates.This model focuses on predicting the crop yield in advance by analyzing\n",
        "factors like location, season, and crop type  through machine learning techniques on\n",
        "previously collected datasets."
      ]
    },
    {
      "cell_type": "code",
      "execution_count": 2,
      "metadata": {
        "id": "FtEIe2eNAvGG"
      },
      "outputs": [],
      "source": [
        "# importing necessary libraries \n",
        "\n",
        "import numpy as np\n",
        "import pandas as pd\n",
        "import matplotlib.pyplot as plt\n",
        "import seaborn as sns"
      ]
    },
    {
      "cell_type": "code",
      "execution_count": 3,
      "metadata": {
        "id": "QlFU5GzNCLGo"
      },
      "outputs": [],
      "source": [
        "# loading the dataset\n",
        "# from google.colab import files\n",
        "# crop_data = files.upload()\n",
        "# crop_data=pd.read_csv(\"C:\\Users\\win\\Downloads\\Crop-Yield-Prediction-in-India-using-ML-maincrop_production.csv\")\n",
        "#crop_data = uploaded"
      ]
    },
    {
      "cell_type": "code",
      "source": [
        "url = \"https://raw.githubusercontent.com/jaypatel-31/Independent-Project-Sem7/main/crop_production.csv\"\n",
        "crop_data = pd.read_csv(url)"
      ],
      "metadata": {
        "id": "JoxDXMswvW4W"
      },
      "execution_count": 4,
      "outputs": []
    },
    {
      "cell_type": "code",
      "execution_count": 5,
      "metadata": {
        "id": "TCCZqMyfI3qj",
        "colab": {
          "base_uri": "https://localhost:8080/"
        },
        "outputId": "78d2acb7-df9e-4b2f-98ff-b30819608862"
      },
      "outputs": [
        {
          "output_type": "execute_result",
          "data": {
            "text/plain": [
              "(246091, 7)"
            ]
          },
          "metadata": {},
          "execution_count": 5
        }
      ],
      "source": [
        "crop_data.shape\n",
        "\n",
        "#rows X columns"
      ]
    },
    {
      "cell_type": "code",
      "source": [
        "type(crop_data)\n"
      ],
      "metadata": {
        "id": "bXIbDZmPuvff",
        "colab": {
          "base_uri": "https://localhost:8080/"
        },
        "outputId": "f53c9ccc-89d0-4551-b2c3-d74001351700"
      },
      "execution_count": 6,
      "outputs": [
        {
          "output_type": "execute_result",
          "data": {
            "text/plain": [
              "pandas.core.frame.DataFrame"
            ]
          },
          "metadata": {},
          "execution_count": 6
        }
      ]
    },
    {
      "cell_type": "code",
      "execution_count": 7,
      "metadata": {
        "id": "vJM7qEq3wEEb",
        "colab": {
          "base_uri": "https://localhost:8080/"
        },
        "outputId": "8addc844-930b-47ea-f8ae-e4f0ab5a9804"
      },
      "outputs": [
        {
          "output_type": "execute_result",
          "data": {
            "text/plain": [
              "Index(['State_Name', 'District_Name', 'Crop_Year', 'Season', 'Crop', 'Area',\n",
              "       'Production'],\n",
              "      dtype='object')"
            ]
          },
          "metadata": {},
          "execution_count": 7
        }
      ],
      "source": [
        "# dataset columns\n",
        "crop_data.columns"
      ]
    },
    {
      "cell_type": "code",
      "execution_count": 8,
      "metadata": {
        "id": "1xDyXRn_S-8I",
        "colab": {
          "base_uri": "https://localhost:8080/",
          "height": 300
        },
        "outputId": "fb1766cd-5149-4869-b106-647b46bd274e"
      },
      "outputs": [
        {
          "output_type": "execute_result",
          "data": {
            "text/plain": [
              "           Crop_Year          Area    Production\n",
              "count  246091.000000  2.460910e+05  2.423610e+05\n",
              "mean     2005.643018  1.200282e+04  5.825034e+05\n",
              "std         4.952164  5.052340e+04  1.706581e+07\n",
              "min      1997.000000  4.000000e-02  0.000000e+00\n",
              "25%      2002.000000  8.000000e+01  8.800000e+01\n",
              "50%      2006.000000  5.820000e+02  7.290000e+02\n",
              "75%      2010.000000  4.392000e+03  7.023000e+03\n",
              "max      2015.000000  8.580100e+06  1.250800e+09"
            ],
            "text/html": [
              "\n",
              "  <div id=\"df-b77e22b2-d093-4a83-bf74-deed95807ebf\">\n",
              "    <div class=\"colab-df-container\">\n",
              "      <div>\n",
              "<style scoped>\n",
              "    .dataframe tbody tr th:only-of-type {\n",
              "        vertical-align: middle;\n",
              "    }\n",
              "\n",
              "    .dataframe tbody tr th {\n",
              "        vertical-align: top;\n",
              "    }\n",
              "\n",
              "    .dataframe thead th {\n",
              "        text-align: right;\n",
              "    }\n",
              "</style>\n",
              "<table border=\"1\" class=\"dataframe\">\n",
              "  <thead>\n",
              "    <tr style=\"text-align: right;\">\n",
              "      <th></th>\n",
              "      <th>Crop_Year</th>\n",
              "      <th>Area</th>\n",
              "      <th>Production</th>\n",
              "    </tr>\n",
              "  </thead>\n",
              "  <tbody>\n",
              "    <tr>\n",
              "      <th>count</th>\n",
              "      <td>246091.000000</td>\n",
              "      <td>2.460910e+05</td>\n",
              "      <td>2.423610e+05</td>\n",
              "    </tr>\n",
              "    <tr>\n",
              "      <th>mean</th>\n",
              "      <td>2005.643018</td>\n",
              "      <td>1.200282e+04</td>\n",
              "      <td>5.825034e+05</td>\n",
              "    </tr>\n",
              "    <tr>\n",
              "      <th>std</th>\n",
              "      <td>4.952164</td>\n",
              "      <td>5.052340e+04</td>\n",
              "      <td>1.706581e+07</td>\n",
              "    </tr>\n",
              "    <tr>\n",
              "      <th>min</th>\n",
              "      <td>1997.000000</td>\n",
              "      <td>4.000000e-02</td>\n",
              "      <td>0.000000e+00</td>\n",
              "    </tr>\n",
              "    <tr>\n",
              "      <th>25%</th>\n",
              "      <td>2002.000000</td>\n",
              "      <td>8.000000e+01</td>\n",
              "      <td>8.800000e+01</td>\n",
              "    </tr>\n",
              "    <tr>\n",
              "      <th>50%</th>\n",
              "      <td>2006.000000</td>\n",
              "      <td>5.820000e+02</td>\n",
              "      <td>7.290000e+02</td>\n",
              "    </tr>\n",
              "    <tr>\n",
              "      <th>75%</th>\n",
              "      <td>2010.000000</td>\n",
              "      <td>4.392000e+03</td>\n",
              "      <td>7.023000e+03</td>\n",
              "    </tr>\n",
              "    <tr>\n",
              "      <th>max</th>\n",
              "      <td>2015.000000</td>\n",
              "      <td>8.580100e+06</td>\n",
              "      <td>1.250800e+09</td>\n",
              "    </tr>\n",
              "  </tbody>\n",
              "</table>\n",
              "</div>\n",
              "      <button class=\"colab-df-convert\" onclick=\"convertToInteractive('df-b77e22b2-d093-4a83-bf74-deed95807ebf')\"\n",
              "              title=\"Convert this dataframe to an interactive table.\"\n",
              "              style=\"display:none;\">\n",
              "        \n",
              "  <svg xmlns=\"http://www.w3.org/2000/svg\" height=\"24px\"viewBox=\"0 0 24 24\"\n",
              "       width=\"24px\">\n",
              "    <path d=\"M0 0h24v24H0V0z\" fill=\"none\"/>\n",
              "    <path d=\"M18.56 5.44l.94 2.06.94-2.06 2.06-.94-2.06-.94-.94-2.06-.94 2.06-2.06.94zm-11 1L8.5 8.5l.94-2.06 2.06-.94-2.06-.94L8.5 2.5l-.94 2.06-2.06.94zm10 10l.94 2.06.94-2.06 2.06-.94-2.06-.94-.94-2.06-.94 2.06-2.06.94z\"/><path d=\"M17.41 7.96l-1.37-1.37c-.4-.4-.92-.59-1.43-.59-.52 0-1.04.2-1.43.59L10.3 9.45l-7.72 7.72c-.78.78-.78 2.05 0 2.83L4 21.41c.39.39.9.59 1.41.59.51 0 1.02-.2 1.41-.59l7.78-7.78 2.81-2.81c.8-.78.8-2.07 0-2.86zM5.41 20L4 18.59l7.72-7.72 1.47 1.35L5.41 20z\"/>\n",
              "  </svg>\n",
              "      </button>\n",
              "      \n",
              "  <style>\n",
              "    .colab-df-container {\n",
              "      display:flex;\n",
              "      flex-wrap:wrap;\n",
              "      gap: 12px;\n",
              "    }\n",
              "\n",
              "    .colab-df-convert {\n",
              "      background-color: #E8F0FE;\n",
              "      border: none;\n",
              "      border-radius: 50%;\n",
              "      cursor: pointer;\n",
              "      display: none;\n",
              "      fill: #1967D2;\n",
              "      height: 32px;\n",
              "      padding: 0 0 0 0;\n",
              "      width: 32px;\n",
              "    }\n",
              "\n",
              "    .colab-df-convert:hover {\n",
              "      background-color: #E2EBFA;\n",
              "      box-shadow: 0px 1px 2px rgba(60, 64, 67, 0.3), 0px 1px 3px 1px rgba(60, 64, 67, 0.15);\n",
              "      fill: #174EA6;\n",
              "    }\n",
              "\n",
              "    [theme=dark] .colab-df-convert {\n",
              "      background-color: #3B4455;\n",
              "      fill: #D2E3FC;\n",
              "    }\n",
              "\n",
              "    [theme=dark] .colab-df-convert:hover {\n",
              "      background-color: #434B5C;\n",
              "      box-shadow: 0px 1px 3px 1px rgba(0, 0, 0, 0.15);\n",
              "      filter: drop-shadow(0px 1px 2px rgba(0, 0, 0, 0.3));\n",
              "      fill: #FFFFFF;\n",
              "    }\n",
              "  </style>\n",
              "\n",
              "      <script>\n",
              "        const buttonEl =\n",
              "          document.querySelector('#df-b77e22b2-d093-4a83-bf74-deed95807ebf button.colab-df-convert');\n",
              "        buttonEl.style.display =\n",
              "          google.colab.kernel.accessAllowed ? 'block' : 'none';\n",
              "\n",
              "        async function convertToInteractive(key) {\n",
              "          const element = document.querySelector('#df-b77e22b2-d093-4a83-bf74-deed95807ebf');\n",
              "          const dataTable =\n",
              "            await google.colab.kernel.invokeFunction('convertToInteractive',\n",
              "                                                     [key], {});\n",
              "          if (!dataTable) return;\n",
              "\n",
              "          const docLinkHtml = 'Like what you see? Visit the ' +\n",
              "            '<a target=\"_blank\" href=https://colab.research.google.com/notebooks/data_table.ipynb>data table notebook</a>'\n",
              "            + ' to learn more about interactive tables.';\n",
              "          element.innerHTML = '';\n",
              "          dataTable['output_type'] = 'display_data';\n",
              "          await google.colab.output.renderOutput(dataTable, element);\n",
              "          const docLink = document.createElement('div');\n",
              "          docLink.innerHTML = docLinkHtml;\n",
              "          element.appendChild(docLink);\n",
              "        }\n",
              "      </script>\n",
              "    </div>\n",
              "  </div>\n",
              "  "
            ]
          },
          "metadata": {},
          "execution_count": 8
        }
      ],
      "source": [
        "# statistical inference of the dataset\n",
        "\n",
        "crop_data.describe()"
      ]
    },
    {
      "cell_type": "code",
      "execution_count": 9,
      "metadata": {
        "id": "etWFlfIWWdbC",
        "colab": {
          "base_uri": "https://localhost:8080/"
        },
        "outputId": "485c8b78-8bc4-4def-a2ac-d0857cd67f1f"
      },
      "outputs": [
        {
          "output_type": "execute_result",
          "data": {
            "text/plain": [
              "State_Name          0\n",
              "District_Name       0\n",
              "Crop_Year           0\n",
              "Season              0\n",
              "Crop                0\n",
              "Area                0\n",
              "Production       3730\n",
              "dtype: int64"
            ]
          },
          "metadata": {},
          "execution_count": 9
        }
      ],
      "source": [
        "# Checking missing values of the dataset in each column\n",
        "crop_data.isnull().sum()"
      ]
    },
    {
      "cell_type": "code",
      "execution_count": 10,
      "metadata": {
        "id": "dJXZbZ3kWl2y",
        "colab": {
          "base_uri": "https://localhost:8080/",
          "height": 424
        },
        "outputId": "fc4e4854-8fe6-46a6-f0a8-c641fa8c84a5"
      },
      "outputs": [
        {
          "output_type": "execute_result",
          "data": {
            "text/plain": [
              "                         State_Name District_Name  Crop_Year       Season  \\\n",
              "0       Andaman and Nicobar Islands      NICOBARS       2000  Kharif        \n",
              "1       Andaman and Nicobar Islands      NICOBARS       2000  Kharif        \n",
              "2       Andaman and Nicobar Islands      NICOBARS       2000  Kharif        \n",
              "3       Andaman and Nicobar Islands      NICOBARS       2000  Whole Year    \n",
              "4       Andaman and Nicobar Islands      NICOBARS       2000  Whole Year    \n",
              "...                             ...           ...        ...          ...   \n",
              "246086                  West Bengal       PURULIA       2014  Summer        \n",
              "246087                  West Bengal       PURULIA       2014  Summer        \n",
              "246088                  West Bengal       PURULIA       2014  Whole Year    \n",
              "246089                  West Bengal       PURULIA       2014  Winter        \n",
              "246090                  West Bengal       PURULIA       2014  Winter        \n",
              "\n",
              "                       Crop      Area  Production  \n",
              "0                  Arecanut    1254.0      2000.0  \n",
              "1       Other Kharif pulses       2.0         1.0  \n",
              "2                      Rice     102.0       321.0  \n",
              "3                    Banana     176.0       641.0  \n",
              "4                 Cashewnut     720.0       165.0  \n",
              "...                     ...       ...         ...  \n",
              "246086                 Rice     306.0       801.0  \n",
              "246087              Sesamum     627.0       463.0  \n",
              "246088            Sugarcane     324.0     16250.0  \n",
              "246089                 Rice  279151.0    597899.0  \n",
              "246090              Sesamum     175.0        88.0  \n",
              "\n",
              "[242361 rows x 7 columns]"
            ],
            "text/html": [
              "\n",
              "  <div id=\"df-13607886-ab5a-4b43-a5d9-c60cfc2dbd24\">\n",
              "    <div class=\"colab-df-container\">\n",
              "      <div>\n",
              "<style scoped>\n",
              "    .dataframe tbody tr th:only-of-type {\n",
              "        vertical-align: middle;\n",
              "    }\n",
              "\n",
              "    .dataframe tbody tr th {\n",
              "        vertical-align: top;\n",
              "    }\n",
              "\n",
              "    .dataframe thead th {\n",
              "        text-align: right;\n",
              "    }\n",
              "</style>\n",
              "<table border=\"1\" class=\"dataframe\">\n",
              "  <thead>\n",
              "    <tr style=\"text-align: right;\">\n",
              "      <th></th>\n",
              "      <th>State_Name</th>\n",
              "      <th>District_Name</th>\n",
              "      <th>Crop_Year</th>\n",
              "      <th>Season</th>\n",
              "      <th>Crop</th>\n",
              "      <th>Area</th>\n",
              "      <th>Production</th>\n",
              "    </tr>\n",
              "  </thead>\n",
              "  <tbody>\n",
              "    <tr>\n",
              "      <th>0</th>\n",
              "      <td>Andaman and Nicobar Islands</td>\n",
              "      <td>NICOBARS</td>\n",
              "      <td>2000</td>\n",
              "      <td>Kharif</td>\n",
              "      <td>Arecanut</td>\n",
              "      <td>1254.0</td>\n",
              "      <td>2000.0</td>\n",
              "    </tr>\n",
              "    <tr>\n",
              "      <th>1</th>\n",
              "      <td>Andaman and Nicobar Islands</td>\n",
              "      <td>NICOBARS</td>\n",
              "      <td>2000</td>\n",
              "      <td>Kharif</td>\n",
              "      <td>Other Kharif pulses</td>\n",
              "      <td>2.0</td>\n",
              "      <td>1.0</td>\n",
              "    </tr>\n",
              "    <tr>\n",
              "      <th>2</th>\n",
              "      <td>Andaman and Nicobar Islands</td>\n",
              "      <td>NICOBARS</td>\n",
              "      <td>2000</td>\n",
              "      <td>Kharif</td>\n",
              "      <td>Rice</td>\n",
              "      <td>102.0</td>\n",
              "      <td>321.0</td>\n",
              "    </tr>\n",
              "    <tr>\n",
              "      <th>3</th>\n",
              "      <td>Andaman and Nicobar Islands</td>\n",
              "      <td>NICOBARS</td>\n",
              "      <td>2000</td>\n",
              "      <td>Whole Year</td>\n",
              "      <td>Banana</td>\n",
              "      <td>176.0</td>\n",
              "      <td>641.0</td>\n",
              "    </tr>\n",
              "    <tr>\n",
              "      <th>4</th>\n",
              "      <td>Andaman and Nicobar Islands</td>\n",
              "      <td>NICOBARS</td>\n",
              "      <td>2000</td>\n",
              "      <td>Whole Year</td>\n",
              "      <td>Cashewnut</td>\n",
              "      <td>720.0</td>\n",
              "      <td>165.0</td>\n",
              "    </tr>\n",
              "    <tr>\n",
              "      <th>...</th>\n",
              "      <td>...</td>\n",
              "      <td>...</td>\n",
              "      <td>...</td>\n",
              "      <td>...</td>\n",
              "      <td>...</td>\n",
              "      <td>...</td>\n",
              "      <td>...</td>\n",
              "    </tr>\n",
              "    <tr>\n",
              "      <th>246086</th>\n",
              "      <td>West Bengal</td>\n",
              "      <td>PURULIA</td>\n",
              "      <td>2014</td>\n",
              "      <td>Summer</td>\n",
              "      <td>Rice</td>\n",
              "      <td>306.0</td>\n",
              "      <td>801.0</td>\n",
              "    </tr>\n",
              "    <tr>\n",
              "      <th>246087</th>\n",
              "      <td>West Bengal</td>\n",
              "      <td>PURULIA</td>\n",
              "      <td>2014</td>\n",
              "      <td>Summer</td>\n",
              "      <td>Sesamum</td>\n",
              "      <td>627.0</td>\n",
              "      <td>463.0</td>\n",
              "    </tr>\n",
              "    <tr>\n",
              "      <th>246088</th>\n",
              "      <td>West Bengal</td>\n",
              "      <td>PURULIA</td>\n",
              "      <td>2014</td>\n",
              "      <td>Whole Year</td>\n",
              "      <td>Sugarcane</td>\n",
              "      <td>324.0</td>\n",
              "      <td>16250.0</td>\n",
              "    </tr>\n",
              "    <tr>\n",
              "      <th>246089</th>\n",
              "      <td>West Bengal</td>\n",
              "      <td>PURULIA</td>\n",
              "      <td>2014</td>\n",
              "      <td>Winter</td>\n",
              "      <td>Rice</td>\n",
              "      <td>279151.0</td>\n",
              "      <td>597899.0</td>\n",
              "    </tr>\n",
              "    <tr>\n",
              "      <th>246090</th>\n",
              "      <td>West Bengal</td>\n",
              "      <td>PURULIA</td>\n",
              "      <td>2014</td>\n",
              "      <td>Winter</td>\n",
              "      <td>Sesamum</td>\n",
              "      <td>175.0</td>\n",
              "      <td>88.0</td>\n",
              "    </tr>\n",
              "  </tbody>\n",
              "</table>\n",
              "<p>242361 rows × 7 columns</p>\n",
              "</div>\n",
              "      <button class=\"colab-df-convert\" onclick=\"convertToInteractive('df-13607886-ab5a-4b43-a5d9-c60cfc2dbd24')\"\n",
              "              title=\"Convert this dataframe to an interactive table.\"\n",
              "              style=\"display:none;\">\n",
              "        \n",
              "  <svg xmlns=\"http://www.w3.org/2000/svg\" height=\"24px\"viewBox=\"0 0 24 24\"\n",
              "       width=\"24px\">\n",
              "    <path d=\"M0 0h24v24H0V0z\" fill=\"none\"/>\n",
              "    <path d=\"M18.56 5.44l.94 2.06.94-2.06 2.06-.94-2.06-.94-.94-2.06-.94 2.06-2.06.94zm-11 1L8.5 8.5l.94-2.06 2.06-.94-2.06-.94L8.5 2.5l-.94 2.06-2.06.94zm10 10l.94 2.06.94-2.06 2.06-.94-2.06-.94-.94-2.06-.94 2.06-2.06.94z\"/><path d=\"M17.41 7.96l-1.37-1.37c-.4-.4-.92-.59-1.43-.59-.52 0-1.04.2-1.43.59L10.3 9.45l-7.72 7.72c-.78.78-.78 2.05 0 2.83L4 21.41c.39.39.9.59 1.41.59.51 0 1.02-.2 1.41-.59l7.78-7.78 2.81-2.81c.8-.78.8-2.07 0-2.86zM5.41 20L4 18.59l7.72-7.72 1.47 1.35L5.41 20z\"/>\n",
              "  </svg>\n",
              "      </button>\n",
              "      \n",
              "  <style>\n",
              "    .colab-df-container {\n",
              "      display:flex;\n",
              "      flex-wrap:wrap;\n",
              "      gap: 12px;\n",
              "    }\n",
              "\n",
              "    .colab-df-convert {\n",
              "      background-color: #E8F0FE;\n",
              "      border: none;\n",
              "      border-radius: 50%;\n",
              "      cursor: pointer;\n",
              "      display: none;\n",
              "      fill: #1967D2;\n",
              "      height: 32px;\n",
              "      padding: 0 0 0 0;\n",
              "      width: 32px;\n",
              "    }\n",
              "\n",
              "    .colab-df-convert:hover {\n",
              "      background-color: #E2EBFA;\n",
              "      box-shadow: 0px 1px 2px rgba(60, 64, 67, 0.3), 0px 1px 3px 1px rgba(60, 64, 67, 0.15);\n",
              "      fill: #174EA6;\n",
              "    }\n",
              "\n",
              "    [theme=dark] .colab-df-convert {\n",
              "      background-color: #3B4455;\n",
              "      fill: #D2E3FC;\n",
              "    }\n",
              "\n",
              "    [theme=dark] .colab-df-convert:hover {\n",
              "      background-color: #434B5C;\n",
              "      box-shadow: 0px 1px 3px 1px rgba(0, 0, 0, 0.15);\n",
              "      filter: drop-shadow(0px 1px 2px rgba(0, 0, 0, 0.3));\n",
              "      fill: #FFFFFF;\n",
              "    }\n",
              "  </style>\n",
              "\n",
              "      <script>\n",
              "        const buttonEl =\n",
              "          document.querySelector('#df-13607886-ab5a-4b43-a5d9-c60cfc2dbd24 button.colab-df-convert');\n",
              "        buttonEl.style.display =\n",
              "          google.colab.kernel.accessAllowed ? 'block' : 'none';\n",
              "\n",
              "        async function convertToInteractive(key) {\n",
              "          const element = document.querySelector('#df-13607886-ab5a-4b43-a5d9-c60cfc2dbd24');\n",
              "          const dataTable =\n",
              "            await google.colab.kernel.invokeFunction('convertToInteractive',\n",
              "                                                     [key], {});\n",
              "          if (!dataTable) return;\n",
              "\n",
              "          const docLinkHtml = 'Like what you see? Visit the ' +\n",
              "            '<a target=\"_blank\" href=https://colab.research.google.com/notebooks/data_table.ipynb>data table notebook</a>'\n",
              "            + ' to learn more about interactive tables.';\n",
              "          element.innerHTML = '';\n",
              "          dataTable['output_type'] = 'display_data';\n",
              "          await google.colab.output.renderOutput(dataTable, element);\n",
              "          const docLink = document.createElement('div');\n",
              "          docLink.innerHTML = docLinkHtml;\n",
              "          element.appendChild(docLink);\n",
              "        }\n",
              "      </script>\n",
              "    </div>\n",
              "  </div>\n",
              "  "
            ]
          },
          "metadata": {},
          "execution_count": 10
        }
      ],
      "source": [
        "# Dropping missing values \n",
        "crop_data = crop_data.dropna()\n",
        "crop_data"
      ]
    },
    {
      "cell_type": "code",
      "execution_count": 11,
      "metadata": {
        "id": "9fxHSTNWW59i",
        "colab": {
          "base_uri": "https://localhost:8080/"
        },
        "outputId": "dcc54735-b96e-402a-d4d1-8bfe5a27e2ba"
      },
      "outputs": [
        {
          "output_type": "execute_result",
          "data": {
            "text/plain": [
              "False"
            ]
          },
          "metadata": {},
          "execution_count": 11
        }
      ],
      "source": [
        "#checking\n",
        "crop_data.isnull().values.any()\n"
      ]
    },
    {
      "cell_type": "code",
      "execution_count": 12,
      "metadata": {
        "id": "5SRKh8GqXbfR",
        "colab": {
          "base_uri": "https://localhost:8080/"
        },
        "outputId": "d48574fd-cd51-4085-e3ca-dd2bf8aa6418"
      },
      "outputs": [
        {
          "output_type": "execute_result",
          "data": {
            "text/plain": [
              "array(['Andaman and Nicobar Islands', 'Andhra Pradesh',\n",
              "       'Arunachal Pradesh', 'Assam', 'Bihar', 'Chandigarh',\n",
              "       'Chhattisgarh', 'Dadra and Nagar Haveli', 'Goa', 'Gujarat',\n",
              "       'Haryana', 'Himachal Pradesh', 'Jammu and Kashmir ', 'Jharkhand',\n",
              "       'Karnataka', 'Kerala', 'Madhya Pradesh', 'Maharashtra', 'Manipur',\n",
              "       'Meghalaya', 'Mizoram', 'Nagaland', 'Odisha', 'Puducherry',\n",
              "       'Punjab', 'Rajasthan', 'Sikkim', 'Tamil Nadu', 'Telangana ',\n",
              "       'Tripura', 'Uttar Pradesh', 'Uttarakhand', 'West Bengal'],\n",
              "      dtype=object)"
            ]
          },
          "metadata": {},
          "execution_count": 12
        }
      ],
      "source": [
        "# Displaying State Names present in the dataset\n",
        "crop_data.State_Name.unique()"
      ]
    },
    {
      "cell_type": "code",
      "execution_count": 13,
      "metadata": {
        "id": "N6W9rKGRQMbJ",
        "colab": {
          "base_uri": "https://localhost:8080/",
          "height": 467
        },
        "outputId": "3037f3b0-5418-4187-cef7-4b5b76797caa"
      },
      "outputs": [
        {
          "output_type": "stream",
          "name": "stderr",
          "text": [
            "<ipython-input-13-21ef19bb9e83>:3: SettingWithCopyWarning: \n",
            "A value is trying to be set on a copy of a slice from a DataFrame.\n",
            "Try using .loc[row_indexer,col_indexer] = value instead\n",
            "\n",
            "See the caveats in the documentation: https://pandas.pydata.org/pandas-docs/stable/user_guide/indexing.html#returning-a-view-versus-a-copy\n",
            "  crop_data['Yield'] = (crop_data['Production'] / crop_data['Area'])\n"
          ]
        },
        {
          "output_type": "execute_result",
          "data": {
            "text/plain": [
              "                    State_Name District_Name  Crop_Year       Season  \\\n",
              "0  Andaman and Nicobar Islands      NICOBARS       2000  Kharif        \n",
              "1  Andaman and Nicobar Islands      NICOBARS       2000  Kharif        \n",
              "2  Andaman and Nicobar Islands      NICOBARS       2000  Kharif        \n",
              "3  Andaman and Nicobar Islands      NICOBARS       2000  Whole Year    \n",
              "4  Andaman and Nicobar Islands      NICOBARS       2000  Whole Year    \n",
              "5  Andaman and Nicobar Islands      NICOBARS       2000  Whole Year    \n",
              "6  Andaman and Nicobar Islands      NICOBARS       2000  Whole Year    \n",
              "7  Andaman and Nicobar Islands      NICOBARS       2000  Whole Year    \n",
              "8  Andaman and Nicobar Islands      NICOBARS       2000  Whole Year    \n",
              "9  Andaman and Nicobar Islands      NICOBARS       2000  Whole Year    \n",
              "\n",
              "                  Crop     Area  Production        Yield  \n",
              "0             Arecanut   1254.0      2000.0     1.594896  \n",
              "1  Other Kharif pulses      2.0         1.0     0.500000  \n",
              "2                 Rice    102.0       321.0     3.147059  \n",
              "3               Banana    176.0       641.0     3.642045  \n",
              "4            Cashewnut    720.0       165.0     0.229167  \n",
              "5             Coconut   18168.0  65100000.0  3583.223250  \n",
              "6           Dry ginger     36.0       100.0     2.777778  \n",
              "7            Sugarcane      1.0         2.0     2.000000  \n",
              "8         Sweet potato      5.0        15.0     3.000000  \n",
              "9              Tapioca     40.0       169.0     4.225000  "
            ],
            "text/html": [
              "\n",
              "  <div id=\"df-c380eb7d-b2a8-4828-b025-4067c785f3a3\">\n",
              "    <div class=\"colab-df-container\">\n",
              "      <div>\n",
              "<style scoped>\n",
              "    .dataframe tbody tr th:only-of-type {\n",
              "        vertical-align: middle;\n",
              "    }\n",
              "\n",
              "    .dataframe tbody tr th {\n",
              "        vertical-align: top;\n",
              "    }\n",
              "\n",
              "    .dataframe thead th {\n",
              "        text-align: right;\n",
              "    }\n",
              "</style>\n",
              "<table border=\"1\" class=\"dataframe\">\n",
              "  <thead>\n",
              "    <tr style=\"text-align: right;\">\n",
              "      <th></th>\n",
              "      <th>State_Name</th>\n",
              "      <th>District_Name</th>\n",
              "      <th>Crop_Year</th>\n",
              "      <th>Season</th>\n",
              "      <th>Crop</th>\n",
              "      <th>Area</th>\n",
              "      <th>Production</th>\n",
              "      <th>Yield</th>\n",
              "    </tr>\n",
              "  </thead>\n",
              "  <tbody>\n",
              "    <tr>\n",
              "      <th>0</th>\n",
              "      <td>Andaman and Nicobar Islands</td>\n",
              "      <td>NICOBARS</td>\n",
              "      <td>2000</td>\n",
              "      <td>Kharif</td>\n",
              "      <td>Arecanut</td>\n",
              "      <td>1254.0</td>\n",
              "      <td>2000.0</td>\n",
              "      <td>1.594896</td>\n",
              "    </tr>\n",
              "    <tr>\n",
              "      <th>1</th>\n",
              "      <td>Andaman and Nicobar Islands</td>\n",
              "      <td>NICOBARS</td>\n",
              "      <td>2000</td>\n",
              "      <td>Kharif</td>\n",
              "      <td>Other Kharif pulses</td>\n",
              "      <td>2.0</td>\n",
              "      <td>1.0</td>\n",
              "      <td>0.500000</td>\n",
              "    </tr>\n",
              "    <tr>\n",
              "      <th>2</th>\n",
              "      <td>Andaman and Nicobar Islands</td>\n",
              "      <td>NICOBARS</td>\n",
              "      <td>2000</td>\n",
              "      <td>Kharif</td>\n",
              "      <td>Rice</td>\n",
              "      <td>102.0</td>\n",
              "      <td>321.0</td>\n",
              "      <td>3.147059</td>\n",
              "    </tr>\n",
              "    <tr>\n",
              "      <th>3</th>\n",
              "      <td>Andaman and Nicobar Islands</td>\n",
              "      <td>NICOBARS</td>\n",
              "      <td>2000</td>\n",
              "      <td>Whole Year</td>\n",
              "      <td>Banana</td>\n",
              "      <td>176.0</td>\n",
              "      <td>641.0</td>\n",
              "      <td>3.642045</td>\n",
              "    </tr>\n",
              "    <tr>\n",
              "      <th>4</th>\n",
              "      <td>Andaman and Nicobar Islands</td>\n",
              "      <td>NICOBARS</td>\n",
              "      <td>2000</td>\n",
              "      <td>Whole Year</td>\n",
              "      <td>Cashewnut</td>\n",
              "      <td>720.0</td>\n",
              "      <td>165.0</td>\n",
              "      <td>0.229167</td>\n",
              "    </tr>\n",
              "    <tr>\n",
              "      <th>5</th>\n",
              "      <td>Andaman and Nicobar Islands</td>\n",
              "      <td>NICOBARS</td>\n",
              "      <td>2000</td>\n",
              "      <td>Whole Year</td>\n",
              "      <td>Coconut</td>\n",
              "      <td>18168.0</td>\n",
              "      <td>65100000.0</td>\n",
              "      <td>3583.223250</td>\n",
              "    </tr>\n",
              "    <tr>\n",
              "      <th>6</th>\n",
              "      <td>Andaman and Nicobar Islands</td>\n",
              "      <td>NICOBARS</td>\n",
              "      <td>2000</td>\n",
              "      <td>Whole Year</td>\n",
              "      <td>Dry ginger</td>\n",
              "      <td>36.0</td>\n",
              "      <td>100.0</td>\n",
              "      <td>2.777778</td>\n",
              "    </tr>\n",
              "    <tr>\n",
              "      <th>7</th>\n",
              "      <td>Andaman and Nicobar Islands</td>\n",
              "      <td>NICOBARS</td>\n",
              "      <td>2000</td>\n",
              "      <td>Whole Year</td>\n",
              "      <td>Sugarcane</td>\n",
              "      <td>1.0</td>\n",
              "      <td>2.0</td>\n",
              "      <td>2.000000</td>\n",
              "    </tr>\n",
              "    <tr>\n",
              "      <th>8</th>\n",
              "      <td>Andaman and Nicobar Islands</td>\n",
              "      <td>NICOBARS</td>\n",
              "      <td>2000</td>\n",
              "      <td>Whole Year</td>\n",
              "      <td>Sweet potato</td>\n",
              "      <td>5.0</td>\n",
              "      <td>15.0</td>\n",
              "      <td>3.000000</td>\n",
              "    </tr>\n",
              "    <tr>\n",
              "      <th>9</th>\n",
              "      <td>Andaman and Nicobar Islands</td>\n",
              "      <td>NICOBARS</td>\n",
              "      <td>2000</td>\n",
              "      <td>Whole Year</td>\n",
              "      <td>Tapioca</td>\n",
              "      <td>40.0</td>\n",
              "      <td>169.0</td>\n",
              "      <td>4.225000</td>\n",
              "    </tr>\n",
              "  </tbody>\n",
              "</table>\n",
              "</div>\n",
              "      <button class=\"colab-df-convert\" onclick=\"convertToInteractive('df-c380eb7d-b2a8-4828-b025-4067c785f3a3')\"\n",
              "              title=\"Convert this dataframe to an interactive table.\"\n",
              "              style=\"display:none;\">\n",
              "        \n",
              "  <svg xmlns=\"http://www.w3.org/2000/svg\" height=\"24px\"viewBox=\"0 0 24 24\"\n",
              "       width=\"24px\">\n",
              "    <path d=\"M0 0h24v24H0V0z\" fill=\"none\"/>\n",
              "    <path d=\"M18.56 5.44l.94 2.06.94-2.06 2.06-.94-2.06-.94-.94-2.06-.94 2.06-2.06.94zm-11 1L8.5 8.5l.94-2.06 2.06-.94-2.06-.94L8.5 2.5l-.94 2.06-2.06.94zm10 10l.94 2.06.94-2.06 2.06-.94-2.06-.94-.94-2.06-.94 2.06-2.06.94z\"/><path d=\"M17.41 7.96l-1.37-1.37c-.4-.4-.92-.59-1.43-.59-.52 0-1.04.2-1.43.59L10.3 9.45l-7.72 7.72c-.78.78-.78 2.05 0 2.83L4 21.41c.39.39.9.59 1.41.59.51 0 1.02-.2 1.41-.59l7.78-7.78 2.81-2.81c.8-.78.8-2.07 0-2.86zM5.41 20L4 18.59l7.72-7.72 1.47 1.35L5.41 20z\"/>\n",
              "  </svg>\n",
              "      </button>\n",
              "      \n",
              "  <style>\n",
              "    .colab-df-container {\n",
              "      display:flex;\n",
              "      flex-wrap:wrap;\n",
              "      gap: 12px;\n",
              "    }\n",
              "\n",
              "    .colab-df-convert {\n",
              "      background-color: #E8F0FE;\n",
              "      border: none;\n",
              "      border-radius: 50%;\n",
              "      cursor: pointer;\n",
              "      display: none;\n",
              "      fill: #1967D2;\n",
              "      height: 32px;\n",
              "      padding: 0 0 0 0;\n",
              "      width: 32px;\n",
              "    }\n",
              "\n",
              "    .colab-df-convert:hover {\n",
              "      background-color: #E2EBFA;\n",
              "      box-shadow: 0px 1px 2px rgba(60, 64, 67, 0.3), 0px 1px 3px 1px rgba(60, 64, 67, 0.15);\n",
              "      fill: #174EA6;\n",
              "    }\n",
              "\n",
              "    [theme=dark] .colab-df-convert {\n",
              "      background-color: #3B4455;\n",
              "      fill: #D2E3FC;\n",
              "    }\n",
              "\n",
              "    [theme=dark] .colab-df-convert:hover {\n",
              "      background-color: #434B5C;\n",
              "      box-shadow: 0px 1px 3px 1px rgba(0, 0, 0, 0.15);\n",
              "      filter: drop-shadow(0px 1px 2px rgba(0, 0, 0, 0.3));\n",
              "      fill: #FFFFFF;\n",
              "    }\n",
              "  </style>\n",
              "\n",
              "      <script>\n",
              "        const buttonEl =\n",
              "          document.querySelector('#df-c380eb7d-b2a8-4828-b025-4067c785f3a3 button.colab-df-convert');\n",
              "        buttonEl.style.display =\n",
              "          google.colab.kernel.accessAllowed ? 'block' : 'none';\n",
              "\n",
              "        async function convertToInteractive(key) {\n",
              "          const element = document.querySelector('#df-c380eb7d-b2a8-4828-b025-4067c785f3a3');\n",
              "          const dataTable =\n",
              "            await google.colab.kernel.invokeFunction('convertToInteractive',\n",
              "                                                     [key], {});\n",
              "          if (!dataTable) return;\n",
              "\n",
              "          const docLinkHtml = 'Like what you see? Visit the ' +\n",
              "            '<a target=\"_blank\" href=https://colab.research.google.com/notebooks/data_table.ipynb>data table notebook</a>'\n",
              "            + ' to learn more about interactive tables.';\n",
              "          element.innerHTML = '';\n",
              "          dataTable['output_type'] = 'display_data';\n",
              "          await google.colab.output.renderOutput(dataTable, element);\n",
              "          const docLink = document.createElement('div');\n",
              "          docLink.innerHTML = docLinkHtml;\n",
              "          element.appendChild(docLink);\n",
              "        }\n",
              "      </script>\n",
              "    </div>\n",
              "  </div>\n",
              "  "
            ]
          },
          "metadata": {},
          "execution_count": 13
        }
      ],
      "source": [
        "# Adding a new column Yield which indicates Production per unit Area. \n",
        "\n",
        "crop_data['Yield'] = (crop_data['Production'] / crop_data['Area'])\n",
        "crop_data.head(10) "
      ]
    },
    {
      "cell_type": "code",
      "execution_count": 14,
      "metadata": {
        "id": "8lj_8pINoV_a"
      },
      "outputs": [],
      "source": [
        "# Visualizing the features\n",
        "\n",
        "# ax = sns.pairplot(crop_data)\n",
        "# ax"
      ]
    },
    {
      "cell_type": "code",
      "execution_count": 15,
      "metadata": {
        "id": "yiGXMLevMBpN"
      },
      "outputs": [],
      "source": [
        "# Dropping unnecessary columns\n",
        "\n",
        "data = crop_data.drop(['State_Name'], axis = 1)"
      ]
    },
    {
      "cell_type": "code",
      "execution_count": 16,
      "metadata": {
        "id": "sdXtAmUaoV_a",
        "colab": {
          "base_uri": "https://localhost:8080/",
          "height": 175
        },
        "outputId": "f388c892-52cb-4adf-b386-446a4c5b18a9"
      },
      "outputs": [
        {
          "output_type": "execute_result",
          "data": {
            "text/plain": [
              "            Crop_Year      Area  Production     Yield\n",
              "Crop_Year    1.000000 -0.025305    0.006989  0.013499\n",
              "Area        -0.025305  1.000000    0.040587  0.001822\n",
              "Production   0.006989  0.040587    1.000000  0.330961\n",
              "Yield        0.013499  0.001822    0.330961  1.000000"
            ],
            "text/html": [
              "\n",
              "  <div id=\"df-577eb2d6-5e10-4599-a8bf-875400ca83f2\">\n",
              "    <div class=\"colab-df-container\">\n",
              "      <div>\n",
              "<style scoped>\n",
              "    .dataframe tbody tr th:only-of-type {\n",
              "        vertical-align: middle;\n",
              "    }\n",
              "\n",
              "    .dataframe tbody tr th {\n",
              "        vertical-align: top;\n",
              "    }\n",
              "\n",
              "    .dataframe thead th {\n",
              "        text-align: right;\n",
              "    }\n",
              "</style>\n",
              "<table border=\"1\" class=\"dataframe\">\n",
              "  <thead>\n",
              "    <tr style=\"text-align: right;\">\n",
              "      <th></th>\n",
              "      <th>Crop_Year</th>\n",
              "      <th>Area</th>\n",
              "      <th>Production</th>\n",
              "      <th>Yield</th>\n",
              "    </tr>\n",
              "  </thead>\n",
              "  <tbody>\n",
              "    <tr>\n",
              "      <th>Crop_Year</th>\n",
              "      <td>1.000000</td>\n",
              "      <td>-0.025305</td>\n",
              "      <td>0.006989</td>\n",
              "      <td>0.013499</td>\n",
              "    </tr>\n",
              "    <tr>\n",
              "      <th>Area</th>\n",
              "      <td>-0.025305</td>\n",
              "      <td>1.000000</td>\n",
              "      <td>0.040587</td>\n",
              "      <td>0.001822</td>\n",
              "    </tr>\n",
              "    <tr>\n",
              "      <th>Production</th>\n",
              "      <td>0.006989</td>\n",
              "      <td>0.040587</td>\n",
              "      <td>1.000000</td>\n",
              "      <td>0.330961</td>\n",
              "    </tr>\n",
              "    <tr>\n",
              "      <th>Yield</th>\n",
              "      <td>0.013499</td>\n",
              "      <td>0.001822</td>\n",
              "      <td>0.330961</td>\n",
              "      <td>1.000000</td>\n",
              "    </tr>\n",
              "  </tbody>\n",
              "</table>\n",
              "</div>\n",
              "      <button class=\"colab-df-convert\" onclick=\"convertToInteractive('df-577eb2d6-5e10-4599-a8bf-875400ca83f2')\"\n",
              "              title=\"Convert this dataframe to an interactive table.\"\n",
              "              style=\"display:none;\">\n",
              "        \n",
              "  <svg xmlns=\"http://www.w3.org/2000/svg\" height=\"24px\"viewBox=\"0 0 24 24\"\n",
              "       width=\"24px\">\n",
              "    <path d=\"M0 0h24v24H0V0z\" fill=\"none\"/>\n",
              "    <path d=\"M18.56 5.44l.94 2.06.94-2.06 2.06-.94-2.06-.94-.94-2.06-.94 2.06-2.06.94zm-11 1L8.5 8.5l.94-2.06 2.06-.94-2.06-.94L8.5 2.5l-.94 2.06-2.06.94zm10 10l.94 2.06.94-2.06 2.06-.94-2.06-.94-.94-2.06-.94 2.06-2.06.94z\"/><path d=\"M17.41 7.96l-1.37-1.37c-.4-.4-.92-.59-1.43-.59-.52 0-1.04.2-1.43.59L10.3 9.45l-7.72 7.72c-.78.78-.78 2.05 0 2.83L4 21.41c.39.39.9.59 1.41.59.51 0 1.02-.2 1.41-.59l7.78-7.78 2.81-2.81c.8-.78.8-2.07 0-2.86zM5.41 20L4 18.59l7.72-7.72 1.47 1.35L5.41 20z\"/>\n",
              "  </svg>\n",
              "      </button>\n",
              "      \n",
              "  <style>\n",
              "    .colab-df-container {\n",
              "      display:flex;\n",
              "      flex-wrap:wrap;\n",
              "      gap: 12px;\n",
              "    }\n",
              "\n",
              "    .colab-df-convert {\n",
              "      background-color: #E8F0FE;\n",
              "      border: none;\n",
              "      border-radius: 50%;\n",
              "      cursor: pointer;\n",
              "      display: none;\n",
              "      fill: #1967D2;\n",
              "      height: 32px;\n",
              "      padding: 0 0 0 0;\n",
              "      width: 32px;\n",
              "    }\n",
              "\n",
              "    .colab-df-convert:hover {\n",
              "      background-color: #E2EBFA;\n",
              "      box-shadow: 0px 1px 2px rgba(60, 64, 67, 0.3), 0px 1px 3px 1px rgba(60, 64, 67, 0.15);\n",
              "      fill: #174EA6;\n",
              "    }\n",
              "\n",
              "    [theme=dark] .colab-df-convert {\n",
              "      background-color: #3B4455;\n",
              "      fill: #D2E3FC;\n",
              "    }\n",
              "\n",
              "    [theme=dark] .colab-df-convert:hover {\n",
              "      background-color: #434B5C;\n",
              "      box-shadow: 0px 1px 3px 1px rgba(0, 0, 0, 0.15);\n",
              "      filter: drop-shadow(0px 1px 2px rgba(0, 0, 0, 0.3));\n",
              "      fill: #FFFFFF;\n",
              "    }\n",
              "  </style>\n",
              "\n",
              "      <script>\n",
              "        const buttonEl =\n",
              "          document.querySelector('#df-577eb2d6-5e10-4599-a8bf-875400ca83f2 button.colab-df-convert');\n",
              "        buttonEl.style.display =\n",
              "          google.colab.kernel.accessAllowed ? 'block' : 'none';\n",
              "\n",
              "        async function convertToInteractive(key) {\n",
              "          const element = document.querySelector('#df-577eb2d6-5e10-4599-a8bf-875400ca83f2');\n",
              "          const dataTable =\n",
              "            await google.colab.kernel.invokeFunction('convertToInteractive',\n",
              "                                                     [key], {});\n",
              "          if (!dataTable) return;\n",
              "\n",
              "          const docLinkHtml = 'Like what you see? Visit the ' +\n",
              "            '<a target=\"_blank\" href=https://colab.research.google.com/notebooks/data_table.ipynb>data table notebook</a>'\n",
              "            + ' to learn more about interactive tables.';\n",
              "          element.innerHTML = '';\n",
              "          dataTable['output_type'] = 'display_data';\n",
              "          await google.colab.output.renderOutput(dataTable, element);\n",
              "          const docLink = document.createElement('div');\n",
              "          docLink.innerHTML = docLinkHtml;\n",
              "          element.appendChild(docLink);\n",
              "        }\n",
              "      </script>\n",
              "    </div>\n",
              "  </div>\n",
              "  "
            ]
          },
          "metadata": {},
          "execution_count": 16
        }
      ],
      "source": [
        "data.corr()"
      ]
    },
    {
      "cell_type": "code",
      "execution_count": 17,
      "metadata": {
        "id": "zKHrtLeooV_b",
        "colab": {
          "base_uri": "https://localhost:8080/",
          "height": 299
        },
        "outputId": "7ce84705-81a1-4993-ff47-f5b2fd2340b2"
      },
      "outputs": [
        {
          "output_type": "execute_result",
          "data": {
            "text/plain": [
              "Text(0.5, 1.0, 'Correlation Matrix')"
            ]
          },
          "metadata": {},
          "execution_count": 17
        },
        {
          "output_type": "display_data",
          "data": {
            "text/plain": [
              "<Figure size 432x288 with 2 Axes>"
            ],
            "image/png": "[encoded data removed]"
          },
          "metadata": {
            "needs_background": "light"
          }
        }
      ],
      "source": [
        "sns.heatmap(data.corr(), annot =True)\n",
        "plt.title('Correlation Matrix')"
      ]
    },
    {
      "cell_type": "code",
      "execution_count": 18,
      "metadata": {
        "id": "5D80WMCwKLaY",
        "colab": {
          "base_uri": "https://localhost:8080/",
          "height": 522
        },
        "outputId": "e1e71031-e55b-42bc-d597-03b3b5f2e0b9"
      },
      "outputs": [
        {
          "output_type": "execute_result",
          "data": {
            "text/plain": [
              "        Crop_Year      Area  Production      Yield  \\\n",
              "0            2000    1254.0      2000.0   1.594896   \n",
              "1            2000       2.0         1.0   0.500000   \n",
              "2            2000     102.0       321.0   3.147059   \n",
              "3            2000     176.0       641.0   3.642045   \n",
              "4            2000     720.0       165.0   0.229167   \n",
              "...           ...       ...         ...        ...   \n",
              "246086       2014     306.0       801.0   2.617647   \n",
              "246087       2014     627.0       463.0   0.738437   \n",
              "246088       2014     324.0     16250.0  50.154321   \n",
              "246089       2014  279151.0    597899.0   2.141848   \n",
              "246090       2014     175.0        88.0   0.502857   \n",
              "\n",
              "        District_Name_24 PARAGANAS NORTH  District_Name_24 PARAGANAS SOUTH  \\\n",
              "0                                      0                                 0   \n",
              "1                                      0                                 0   \n",
              "2                                      0                                 0   \n",
              "3                                      0                                 0   \n",
              "4                                      0                                 0   \n",
              "...                                  ...                               ...   \n",
              "246086                                 0                                 0   \n",
              "246087                                 0                                 0   \n",
              "246088                                 0                                 0   \n",
              "246089                                 0                                 0   \n",
              "246090                                 0                                 0   \n",
              "\n",
              "        District_Name_ADILABAD  District_Name_AGAR MALWA  District_Name_AGRA  \\\n",
              "0                            0                         0                   0   \n",
              "1                            0                         0                   0   \n",
              "2                            0                         0                   0   \n",
              "3                            0                         0                   0   \n",
              "4                            0                         0                   0   \n",
              "...                        ...                       ...                 ...   \n",
              "246086                       0                         0                   0   \n",
              "246087                       0                         0                   0   \n",
              "246088                       0                         0                   0   \n",
              "246089                       0                         0                   0   \n",
              "246090                       0                         0                   0   \n",
              "\n",
              "        District_Name_AHMADABAD  ...  Crop_Turmeric  Crop_Turnip  Crop_Urad  \\\n",
              "0                             0  ...              0            0          0   \n",
              "1                             0  ...              0            0          0   \n",
              "2                             0  ...              0            0          0   \n",
              "3                             0  ...              0            0          0   \n",
              "4                             0  ...              0            0          0   \n",
              "...                         ...  ...            ...          ...        ...   \n",
              "246086                        0  ...              0            0          0   \n",
              "246087                        0  ...              0            0          0   \n",
              "246088                        0  ...              0            0          0   \n",
              "246089                        0  ...              0            0          0   \n",
              "246090                        0  ...              0            0          0   \n",
              "\n",
              "        Crop_Varagu  Crop_Water Melon  Crop_Wheat  Crop_Yam  \\\n",
              "0                 0                 0           0         0   \n",
              "1                 0                 0           0         0   \n",
              "2                 0                 0           0         0   \n",
              "3                 0                 0           0         0   \n",
              "4                 0                 0           0         0   \n",
              "...             ...               ...         ...       ...   \n",
              "246086            0                 0           0         0   \n",
              "246087            0                 0           0         0   \n",
              "246088            0                 0           0         0   \n",
              "246089            0                 0           0         0   \n",
              "246090            0                 0           0         0   \n",
              "\n",
              "        Crop_other fibres  Crop_other misc. pulses  Crop_other oilseeds  \n",
              "0                       0                        0                    0  \n",
              "1                       0                        0                    0  \n",
              "2                       0                        0                    0  \n",
              "3                       0                        0                    0  \n",
              "4                       0                        0                    0  \n",
              "...                   ...                      ...                  ...  \n",
              "246086                  0                        0                    0  \n",
              "246087                  0                        0                    0  \n",
              "246088                  0                        0                    0  \n",
              "246089                  0                        0                    0  \n",
              "246090                  0                        0                    0  \n",
              "\n",
              "[242361 rows x 780 columns]"
            ],
            "text/html": [
              "\n",
              "  <div id=\"df-7469c8e9-7594-4faf-805e-782d6d6f0e0d\">\n",
              "    <div class=\"colab-df-container\">\n",
              "      <div>\n",
              "<style scoped>\n",
              "    .dataframe tbody tr th:only-of-type {\n",
              "        vertical-align: middle;\n",
              "    }\n",
              "\n",
              "    .dataframe tbody tr th {\n",
              "        vertical-align: top;\n",
              "    }\n",
              "\n",
              "    .dataframe thead th {\n",
              "        text-align: right;\n",
              "    }\n",
              "</style>\n",
              "<table border=\"1\" class=\"dataframe\">\n",
              "  <thead>\n",
              "    <tr style=\"text-align: right;\">\n",
              "      <th></th>\n",
              "      <th>Crop_Year</th>\n",
              "      <th>Area</th>\n",
              "      <th>Production</th>\n",
              "      <th>Yield</th>\n",
              "      <th>District_Name_24 PARAGANAS NORTH</th>\n",
              "      <th>District_Name_24 PARAGANAS SOUTH</th>\n",
              "      <th>District_Name_ADILABAD</th>\n",
              "      <th>District_Name_AGAR MALWA</th>\n",
              "      <th>District_Name_AGRA</th>\n",
              "      <th>District_Name_AHMADABAD</th>\n",
              "      <th>...</th>\n",
              "      <th>Crop_Turmeric</th>\n",
              "      <th>Crop_Turnip</th>\n",
              "      <th>Crop_Urad</th>\n",
              "      <th>Crop_Varagu</th>\n",
              "      <th>Crop_Water Melon</th>\n",
              "      <th>Crop_Wheat</th>\n",
              "      <th>Crop_Yam</th>\n",
              "      <th>Crop_other fibres</th>\n",
              "      <th>Crop_other misc. pulses</th>\n",
              "      <th>Crop_other oilseeds</th>\n",
              "    </tr>\n",
              "  </thead>\n",
              "  <tbody>\n",
              "    <tr>\n",
              "      <th>0</th>\n",
              "      <td>2000</td>\n",
              "      <td>1254.0</td>\n",
              "      <td>2000.0</td>\n",
              "      <td>1.594896</td>\n",
              "      <td>0</td>\n",
              "      <td>0</td>\n",
              "      <td>0</td>\n",
              "      <td>0</td>\n",
              "      <td>0</td>\n",
              "      <td>0</td>\n",
              "      <td>...</td>\n",
              "      <td>0</td>\n",
              "      <td>0</td>\n",
              "      <td>0</td>\n",
              "      <td>0</td>\n",
              "      <td>0</td>\n",
              "      <td>0</td>\n",
              "      <td>0</td>\n",
              "      <td>0</td>\n",
              "      <td>0</td>\n",
              "      <td>0</td>\n",
              "    </tr>\n",
              "    <tr>\n",
              "      <th>1</th>\n",
              "      <td>2000</td>\n",
              "      <td>2.0</td>\n",
              "      <td>1.0</td>\n",
              "      <td>0.500000</td>\n",
              "      <td>0</td>\n",
              "      <td>0</td>\n",
              "      <td>0</td>\n",
              "      <td>0</td>\n",
              "      <td>0</td>\n",
              "      <td>0</td>\n",
              "      <td>...</td>\n",
              "      <td>0</td>\n",
              "      <td>0</td>\n",
              "      <td>0</td>\n",
              "      <td>0</td>\n",
              "      <td>0</td>\n",
              "      <td>0</td>\n",
              "      <td>0</td>\n",
              "      <td>0</td>\n",
              "      <td>0</td>\n",
              "      <td>0</td>\n",
              "    </tr>\n",
              "    <tr>\n",
              "      <th>2</th>\n",
              "      <td>2000</td>\n",
              "      <td>102.0</td>\n",
              "      <td>321.0</td>\n",
              "      <td>3.147059</td>\n",
              "      <td>0</td>\n",
              "      <td>0</td>\n",
              "      <td>0</td>\n",
              "      <td>0</td>\n",
              "      <td>0</td>\n",
              "      <td>0</td>\n",
              "      <td>...</td>\n",
              "      <td>0</td>\n",
              "      <td>0</td>\n",
              "      <td>0</td>\n",
              "      <td>0</td>\n",
              "      <td>0</td>\n",
              "      <td>0</td>\n",
              "      <td>0</td>\n",
              "      <td>0</td>\n",
              "      <td>0</td>\n",
              "      <td>0</td>\n",
              "    </tr>\n",
              "    <tr>\n",
              "      <th>3</th>\n",
              "      <td>2000</td>\n",
              "      <td>176.0</td>\n",
              "      <td>641.0</td>\n",
              "      <td>3.642045</td>\n",
              "      <td>0</td>\n",
              "      <td>0</td>\n",
              "      <td>0</td>\n",
              "      <td>0</td>\n",
              "      <td>0</td>\n",
              "      <td>0</td>\n",
              "      <td>...</td>\n",
              "      <td>0</td>\n",
              "      <td>0</td>\n",
              "      <td>0</td>\n",
              "      <td>0</td>\n",
              "      <td>0</td>\n",
              "      <td>0</td>\n",
              "      <td>0</td>\n",
              "      <td>0</td>\n",
              "      <td>0</td>\n",
              "      <td>0</td>\n",
              "    </tr>\n",
              "    <tr>\n",
              "      <th>4</th>\n",
              "      <td>2000</td>\n",
              "      <td>720.0</td>\n",
              "      <td>165.0</td>\n",
              "      <td>0.229167</td>\n",
              "      <td>0</td>\n",
              "      <td>0</td>\n",
              "      <td>0</td>\n",
              "      <td>0</td>\n",
              "      <td>0</td>\n",
              "      <td>0</td>\n",
              "      <td>...</td>\n",
              "      <td>0</td>\n",
              "      <td>0</td>\n",
              "      <td>0</td>\n",
              "      <td>0</td>\n",
              "      <td>0</td>\n",
              "      <td>0</td>\n",
              "      <td>0</td>\n",
              "      <td>0</td>\n",
              "      <td>0</td>\n",
              "      <td>0</td>\n",
              "    </tr>\n",
              "    <tr>\n",
              "      <th>...</th>\n",
              "      <td>...</td>\n",
              "      <td>...</td>\n",
              "      <td>...</td>\n",
              "      <td>...</td>\n",
              "      <td>...</td>\n",
              "      <td>...</td>\n",
              "      <td>...</td>\n",
              "      <td>...</td>\n",
              "      <td>...</td>\n",
              "      <td>...</td>\n",
              "      <td>...</td>\n",
              "      <td>...</td>\n",
              "      <td>...</td>\n",
              "      <td>...</td>\n",
              "      <td>...</td>\n",
              "      <td>...</td>\n",
              "      <td>...</td>\n",
              "      <td>...</td>\n",
              "      <td>...</td>\n",
              "      <td>...</td>\n",
              "      <td>...</td>\n",
              "    </tr>\n",
              "    <tr>\n",
              "      <th>246086</th>\n",
              "      <td>2014</td>\n",
              "      <td>306.0</td>\n",
              "      <td>801.0</td>\n",
              "      <td>2.617647</td>\n",
              "      <td>0</td>\n",
              "      <td>0</td>\n",
              "      <td>0</td>\n",
              "      <td>0</td>\n",
              "      <td>0</td>\n",
              "      <td>0</td>\n",
              "      <td>...</td>\n",
              "      <td>0</td>\n",
              "      <td>0</td>\n",
              "      <td>0</td>\n",
              "      <td>0</td>\n",
              "      <td>0</td>\n",
              "      <td>0</td>\n",
              "      <td>0</td>\n",
              "      <td>0</td>\n",
              "      <td>0</td>\n",
              "      <td>0</td>\n",
              "    </tr>\n",
              "    <tr>\n",
              "      <th>246087</th>\n",
              "      <td>2014</td>\n",
              "      <td>627.0</td>\n",
              "      <td>463.0</td>\n",
              "      <td>0.738437</td>\n",
              "      <td>0</td>\n",
              "      <td>0</td>\n",
              "      <td>0</td>\n",
              "      <td>0</td>\n",
              "      <td>0</td>\n",
              "      <td>0</td>\n",
              "      <td>...</td>\n",
              "      <td>0</td>\n",
              "      <td>0</td>\n",
              "      <td>0</td>\n",
              "      <td>0</td>\n",
              "      <td>0</td>\n",
              "      <td>0</td>\n",
              "      <td>0</td>\n",
              "      <td>0</td>\n",
              "      <td>0</td>\n",
              "      <td>0</td>\n",
              "    </tr>\n",
              "    <tr>\n",
              "      <th>246088</th>\n",
              "      <td>2014</td>\n",
              "      <td>324.0</td>\n",
              "      <td>16250.0</td>\n",
              "      <td>50.154321</td>\n",
              "      <td>0</td>\n",
              "      <td>0</td>\n",
              "      <td>0</td>\n",
              "      <td>0</td>\n",
              "      <td>0</td>\n",
              "      <td>0</td>\n",
              "      <td>...</td>\n",
              "      <td>0</td>\n",
              "      <td>0</td>\n",
              "      <td>0</td>\n",
              "      <td>0</td>\n",
              "      <td>0</td>\n",
              "      <td>0</td>\n",
              "      <td>0</td>\n",
              "      <td>0</td>\n",
              "      <td>0</td>\n",
              "      <td>0</td>\n",
              "    </tr>\n",
              "    <tr>\n",
              "      <th>246089</th>\n",
              "      <td>2014</td>\n",
              "      <td>279151.0</td>\n",
              "      <td>597899.0</td>\n",
              "      <td>2.141848</td>\n",
              "      <td>0</td>\n",
              "      <td>0</td>\n",
              "      <td>0</td>\n",
              "      <td>0</td>\n",
              "      <td>0</td>\n",
              "      <td>0</td>\n",
              "      <td>...</td>\n",
              "      <td>0</td>\n",
              "      <td>0</td>\n",
              "      <td>0</td>\n",
              "      <td>0</td>\n",
              "      <td>0</td>\n",
              "      <td>0</td>\n",
              "      <td>0</td>\n",
              "      <td>0</td>\n",
              "      <td>0</td>\n",
              "      <td>0</td>\n",
              "    </tr>\n",
              "    <tr>\n",
              "      <th>246090</th>\n",
              "      <td>2014</td>\n",
              "      <td>175.0</td>\n",
              "      <td>88.0</td>\n",
              "      <td>0.502857</td>\n",
              "      <td>0</td>\n",
              "      <td>0</td>\n",
              "      <td>0</td>\n",
              "      <td>0</td>\n",
              "      <td>0</td>\n",
              "      <td>0</td>\n",
              "      <td>...</td>\n",
              "      <td>0</td>\n",
              "      <td>0</td>\n",
              "      <td>0</td>\n",
              "      <td>0</td>\n",
              "      <td>0</td>\n",
              "      <td>0</td>\n",
              "      <td>0</td>\n",
              "      <td>0</td>\n",
              "      <td>0</td>\n",
              "      <td>0</td>\n",
              "    </tr>\n",
              "  </tbody>\n",
              "</table>\n",
              "<p>242361 rows × 780 columns</p>\n",
              "</div>\n",
              "      <button class=\"colab-df-convert\" onclick=\"convertToInteractive('df-7469c8e9-7594-4faf-805e-782d6d6f0e0d')\"\n",
              "              title=\"Convert this dataframe to an interactive table.\"\n",
              "              style=\"display:none;\">\n",
              "        \n",
              "  <svg xmlns=\"http://www.w3.org/2000/svg\" height=\"24px\"viewBox=\"0 0 24 24\"\n",
              "       width=\"24px\">\n",
              "    <path d=\"M0 0h24v24H0V0z\" fill=\"none\"/>\n",
              "    <path d=\"M18.56 5.44l.94 2.06.94-2.06 2.06-.94-2.06-.94-.94-2.06-.94 2.06-2.06.94zm-11 1L8.5 8.5l.94-2.06 2.06-.94-2.06-.94L8.5 2.5l-.94 2.06-2.06.94zm10 10l.94 2.06.94-2.06 2.06-.94-2.06-.94-.94-2.06-.94 2.06-2.06.94z\"/><path d=\"M17.41 7.96l-1.37-1.37c-.4-.4-.92-.59-1.43-.59-.52 0-1.04.2-1.43.59L10.3 9.45l-7.72 7.72c-.78.78-.78 2.05 0 2.83L4 21.41c.39.39.9.59 1.41.59.51 0 1.02-.2 1.41-.59l7.78-7.78 2.81-2.81c.8-.78.8-2.07 0-2.86zM5.41 20L4 18.59l7.72-7.72 1.47 1.35L5.41 20z\"/>\n",
              "  </svg>\n",
              "      </button>\n",
              "      \n",
              "  <style>\n",
              "    .colab-df-container {\n",
              "      display:flex;\n",
              "      flex-wrap:wrap;\n",
              "      gap: 12px;\n",
              "    }\n",
              "\n",
              "    .colab-df-convert {\n",
              "      background-color: #E8F0FE;\n",
              "      border: none;\n",
              "      border-radius: 50%;\n",
              "      cursor: pointer;\n",
              "      display: none;\n",
              "      fill: #1967D2;\n",
              "      height: 32px;\n",
              "      padding: 0 0 0 0;\n",
              "      width: 32px;\n",
              "    }\n",
              "\n",
              "    .colab-df-convert:hover {\n",
              "      background-color: #E2EBFA;\n",
              "      box-shadow: 0px 1px 2px rgba(60, 64, 67, 0.3), 0px 1px 3px 1px rgba(60, 64, 67, 0.15);\n",
              "      fill: #174EA6;\n",
              "    }\n",
              "\n",
              "    [theme=dark] .colab-df-convert {\n",
              "      background-color: #3B4455;\n",
              "      fill: #D2E3FC;\n",
              "    }\n",
              "\n",
              "    [theme=dark] .colab-df-convert:hover {\n",
              "      background-color: #434B5C;\n",
              "      box-shadow: 0px 1px 3px 1px rgba(0, 0, 0, 0.15);\n",
              "      filter: drop-shadow(0px 1px 2px rgba(0, 0, 0, 0.3));\n",
              "      fill: #FFFFFF;\n",
              "    }\n",
              "  </style>\n",
              "\n",
              "      <script>\n",
              "        const buttonEl =\n",
              "          document.querySelector('#df-7469c8e9-7594-4faf-805e-782d6d6f0e0d button.colab-df-convert');\n",
              "        buttonEl.style.display =\n",
              "          google.colab.kernel.accessAllowed ? 'block' : 'none';\n",
              "\n",
              "        async function convertToInteractive(key) {\n",
              "          const element = document.querySelector('#df-7469c8e9-7594-4faf-805e-782d6d6f0e0d');\n",
              "          const dataTable =\n",
              "            await google.colab.kernel.invokeFunction('convertToInteractive',\n",
              "                                                     [key], {});\n",
              "          if (!dataTable) return;\n",
              "\n",
              "          const docLinkHtml = 'Like what you see? Visit the ' +\n",
              "            '<a target=\"_blank\" href=https://colab.research.google.com/notebooks/data_table.ipynb>data table notebook</a>'\n",
              "            + ' to learn more about interactive tables.';\n",
              "          element.innerHTML = '';\n",
              "          dataTable['output_type'] = 'display_data';\n",
              "          await google.colab.output.renderOutput(dataTable, element);\n",
              "          const docLink = document.createElement('div');\n",
              "          docLink.innerHTML = docLinkHtml;\n",
              "          element.appendChild(docLink);\n",
              "        }\n",
              "      </script>\n",
              "    </div>\n",
              "  </div>\n",
              "  "
            ]
          },
          "metadata": {},
          "execution_count": 18
        }
      ],
      "source": [
        "dummy = pd.get_dummies(data)\n",
        "dummy\n"
      ]
    },
    {
      "cell_type": "markdown",
      "metadata": {
        "id": "WcKWxtwOQ2oP"
      },
      "source": [
        "<b><i> Splitting dataset into train and test dataset </i></b>"
      ]
    },
    {
      "cell_type": "code",
      "execution_count": 19,
      "metadata": {
        "id": "N2D3e349PCmJ",
        "colab": {
          "base_uri": "https://localhost:8080/"
        },
        "outputId": "7dd2633f-c477-4307-e17a-1489e8f2d33a"
      },
      "outputs": [
        {
          "output_type": "stream",
          "name": "stdout",
          "text": [
            "x_train : (181770, 778)\n",
            "x_test : (60591, 778)\n",
            "y_train : (181770,)\n",
            "y_test : (60591,)\n"
          ]
        }
      ],
      "source": [
        "\n",
        "from sklearn.model_selection import train_test_split\n",
        "\n",
        "x = dummy.drop([\"Production\",\"Yield\"], axis=1)\n",
        "y = dummy[\"Production\"]\n",
        "\n",
        "# Splitting data set - 25% test dataset and 75% \n",
        "\n",
        "x_train,x_test,y_train,y_test = train_test_split(x,y,test_size=0.25, random_state=5)\n",
        "\n",
        "print(\"x_train :\",x_train.shape)\n",
        "print(\"x_test :\",x_test.shape)\n",
        "print(\"y_train :\",y_train.shape)\n",
        "print(\"y_test :\",y_test.shape)"
      ]
    },
    {
      "cell_type": "code",
      "execution_count": 20,
      "metadata": {
        "id": "1zJcjciBoV_c",
        "colab": {
          "base_uri": "https://localhost:8080/"
        },
        "outputId": "72869504-2be3-45ac-8391-337c8a9f0487"
      },
      "outputs": [
        {
          "output_type": "stream",
          "name": "stdout",
          "text": [
            "        Crop_Year    Area  District_Name_24 PARAGANAS NORTH  \\\n",
            "201072       2013    16.0                                 0   \n",
            "191897       1998  5400.0                                 0   \n",
            "43814        2000  2968.0                                 0   \n",
            "32815        2013   211.0                                 0   \n",
            "62249        2006  1700.0                                 0   \n",
            "...           ...     ...                               ...   \n",
            "236131       2000   207.0                                 0   \n",
            "127145       2007    39.0                                 0   \n",
            "20536        2005    43.0                                 0   \n",
            "18709        2011  2489.0                                 0   \n",
            "35767        1999    67.0                                 0   \n",
            "\n",
            "        District_Name_24 PARAGANAS SOUTH  District_Name_ADILABAD  \\\n",
            "201072                                 0                       0   \n",
            "191897                                 0                       0   \n",
            "43814                                  0                       0   \n",
            "32815                                  0                       0   \n",
            "62249                                  0                       0   \n",
            "...                                  ...                     ...   \n",
            "236131                                 0                       0   \n",
            "127145                                 0                       0   \n",
            "20536                                  0                       0   \n",
            "18709                                  0                       0   \n",
            "35767                                  0                       0   \n",
            "\n",
            "        District_Name_AGAR MALWA  District_Name_AGRA  District_Name_AHMADABAD  \\\n",
            "201072                         0                   0                        0   \n",
            "191897                         0                   0                        0   \n",
            "43814                          0                   0                        0   \n",
            "32815                          0                   0                        0   \n",
            "62249                          0                   0                        0   \n",
            "...                          ...                 ...                      ...   \n",
            "236131                         0                   0                        0   \n",
            "127145                         0                   0                        0   \n",
            "20536                          0                   0                        0   \n",
            "18709                          0                   0                        0   \n",
            "35767                          0                   0                        0   \n",
            "\n",
            "        District_Name_AHMEDNAGAR  District_Name_AIZAWL  ...  Crop_Turmeric  \\\n",
            "201072                         0                     0  ...              0   \n",
            "191897                         0                     0  ...              0   \n",
            "43814                          0                     0  ...              0   \n",
            "32815                          0                     0  ...              0   \n",
            "62249                          0                     0  ...              0   \n",
            "...                          ...                   ...  ...            ...   \n",
            "236131                         0                     0  ...              0   \n",
            "127145                         0                     0  ...              0   \n",
            "20536                          0                     0  ...              0   \n",
            "18709                          0                     0  ...              0   \n",
            "35767                          0                     0  ...              0   \n",
            "\n",
            "        Crop_Turnip  Crop_Urad  Crop_Varagu  Crop_Water Melon  Crop_Wheat  \\\n",
            "201072            0          0            0                 0           0   \n",
            "191897            0          0            0                 0           0   \n",
            "43814             0          0            0                 0           0   \n",
            "32815             0          0            0                 0           0   \n",
            "62249             0          0            0                 0           0   \n",
            "...             ...        ...          ...               ...         ...   \n",
            "236131            0          0            0                 0           0   \n",
            "127145            0          0            0                 0           0   \n",
            "20536             0          0            0                 0           0   \n",
            "18709             0          0            0                 0           0   \n",
            "35767             0          0            0                 0           0   \n",
            "\n",
            "        Crop_Yam  Crop_other fibres  Crop_other misc. pulses  \\\n",
            "201072         0                  0                        0   \n",
            "191897         0                  0                        0   \n",
            "43814          0                  0                        0   \n",
            "32815          0                  0                        0   \n",
            "62249          0                  0                        0   \n",
            "...          ...                ...                      ...   \n",
            "236131         0                  0                        0   \n",
            "127145         0                  0                        0   \n",
            "20536          0                  0                        0   \n",
            "18709          0                  0                        0   \n",
            "35767          0                  0                        0   \n",
            "\n",
            "        Crop_other oilseeds  \n",
            "201072                    0  \n",
            "191897                    0  \n",
            "43814                     0  \n",
            "32815                     0  \n",
            "62249                     0  \n",
            "...                     ...  \n",
            "236131                    0  \n",
            "127145                    0  \n",
            "20536                     0  \n",
            "18709                     0  \n",
            "35767                     0  \n",
            "\n",
            "[181770 rows x 778 columns]\n",
            "201072      11.0\n",
            "191897    2000.0\n",
            "43814     2555.0\n",
            "32815      175.0\n",
            "62249     1400.0\n",
            "           ...  \n",
            "236131     139.0\n",
            "127145      44.0\n",
            "20536       27.0\n",
            "18709     4779.0\n",
            "35767       81.0\n",
            "Name: Production, Length: 181770, dtype: float64\n"
          ]
        }
      ],
      "source": [
        "print(x_train)\n",
        "print(y_train)"
      ]
    },
    {
      "cell_type": "markdown",
      "metadata": {
        "id": "wOm0Nbu4hgcW"
      },
      "source": [
        "<b><h3> Linear Regression </b></h3>"
      ]
    },
    {
      "cell_type": "code",
      "execution_count": 21,
      "metadata": {
        "id": "QcmEJiH6hhBd",
        "colab": {
          "base_uri": "https://localhost:8080/"
        },
        "outputId": "01c830bb-087a-44d7-ab2f-00a7752ad834"
      },
      "outputs": [
        {
          "output_type": "execute_result",
          "data": {
            "text/plain": [
              "LinearRegression()"
            ]
          },
          "metadata": {},
          "execution_count": 21
        }
      ],
      "source": [
        "# Training the Simple Linear Regression model .\n",
        "\n",
        "from sklearn.linear_model import LinearRegression\n",
        "model = LinearRegression()\n",
        "model.fit(x_train,y_train)"
      ]
    },
    {
      "cell_type": "code",
      "execution_count": 22,
      "metadata": {
        "id": "hGfrNaaAhtzX",
        "colab": {
          "base_uri": "https://localhost:8080/"
        },
        "outputId": "b9a0bfd7-2697-49e1-e684-a680d0206485"
      },
      "outputs": [
        {
          "output_type": "execute_result",
          "data": {
            "text/plain": [
              "array([ -106575.515625 ,   479878.2890625, -1270752.609375 , ...,\n",
              "         144123.5078125, -1745024.7109375,   176345.140625 ])"
            ]
          },
          "metadata": {},
          "execution_count": 22
        }
      ],
      "source": [
        "# Predicting the test Results \n",
        "\n",
        "lr_predict = model.predict(x_test)\n",
        "lr_predict"
      ]
    },
    {
      "cell_type": "code",
      "execution_count": 23,
      "metadata": {
        "id": "nYQUatD7hwCM",
        "colab": {
          "base_uri": "https://localhost:8080/"
        },
        "outputId": "c56168b2-273e-490a-a578-4e5c08efbc4f"
      },
      "outputs": [
        {
          "output_type": "execute_result",
          "data": {
            "text/plain": [
              "-132641.29260355013"
            ]
          },
          "metadata": {},
          "execution_count": 23
        }
      ],
      "source": [
        "model.score(x_test,y_test)"
      ]
    },
    {
      "cell_type": "code",
      "execution_count": 24,
      "metadata": {
        "id": "y2FqgQ3QoV_d",
        "colab": {
          "base_uri": "https://localhost:8080/"
        },
        "outputId": "e88dc2c9-a561-4275-88f6-8f8153fbef4a"
      },
      "outputs": [
        {
          "output_type": "stream",
          "name": "stdout",
          "text": [
            "R2 score :  -132641.29260355013\n"
          ]
        }
      ],
      "source": [
        "from sklearn.metrics import r2_score\n",
        "r = r2_score(y_test,lr_predict)\n",
        "print(\"R2 score : \",r)"
      ]
    },
    {
      "cell_type": "code",
      "execution_count": 25,
      "metadata": {
        "id": "tTvq4MsgoV_e",
        "colab": {
          "base_uri": "https://localhost:8080/",
          "height": 312
        },
        "outputId": "be9b0ff1-73b0-4002-a652-2a87d7cd5be7"
      },
      "outputs": [
        {
          "output_type": "execute_result",
          "data": {
            "text/plain": [
              "Text(0.5, 1.0, 'Linear Regression')"
            ]
          },
          "metadata": {},
          "execution_count": 25
        },
        {
          "output_type": "display_data",
          "data": {
            "text/plain": [
              "<Figure size 432x288 with 1 Axes>"
            ],
            "image/png": "[encoded data removed]"
          },
          "metadata": {
            "needs_background": "light"
          }
        }
      ],
      "source": [
        "plt.scatter(y_test,lr_predict)\n",
        "plt.xlabel('Actual')\n",
        "plt.ylabel('Predicted')\n",
        "plt.title('Linear Regression')"
      ]
    },
    {
      "cell_type": "markdown",
      "metadata": {
        "id": "HbL9-aO4oV_e"
      },
      "source": [
        "Clearly, the dataset is not good for linear regression.\n",
        "\n",
        "<b> Assumptions of Linear Regression </b>\n",
        "<ol>\n",
        "    <li> Linearity.</li>\n",
        "    <li> Homoscedasticity </li>\n",
        "    <li> Multivariate normality </li>\n",
        "    <li> Lack of multicollinearity </li>\n",
        "    \n"
      ]
    },
    {
      "cell_type": "markdown",
      "metadata": {
        "id": "hO2YnBMSoV_e"
      },
      "source": [
        "# R2 score: This is pronounced as R-squared, and this score refers to the coefficient of determination. \n",
        "# This tells us how well the unknown samples will be predicted by our model."
      ]
    },
    {
      "cell_type": "markdown",
      "metadata": {
        "id": "VQd1SuR8YKie"
      },
      "source": [
        "<b><h3> Random Forest Algorithm </h3></b>"
      ]
    },
    {
      "cell_type": "code",
      "execution_count": 26,
      "metadata": {
        "id": "mw2Uwu7iKSrt",
        "colab": {
          "base_uri": "https://localhost:8080/"
        },
        "outputId": "8f966812-e9c6-46d3-dfbe-941a12319375"
      },
      "outputs": [
        {
          "output_type": "execute_result",
          "data": {
            "text/plain": [
              "array([3887.2       ,  635.18181818, 2353.81818182, ...,  176.39090909,\n",
              "       7689.73636364,  109.09090909])"
            ]
          },
          "metadata": {},
          "execution_count": 26
        }
      ],
      "source": [
        "from sklearn.ensemble import RandomForestRegressor\n",
        "model = RandomForestRegressor(n_estimators = 11)\n",
        "model.fit(x_train,y_train)\n",
        "rf_predict = model.predict(x_test)\n",
        "rf_predict"
      ]
    },
    {
      "cell_type": "code",
      "execution_count": 27,
      "metadata": {
        "id": "Xh95GnmQoV_f",
        "colab": {
          "base_uri": "https://localhost:8080/"
        },
        "outputId": "212fe7fb-0a5f-453f-8a5a-86548da8ca5f"
      },
      "outputs": [
        {
          "output_type": "execute_result",
          "data": {
            "text/plain": [
              "0.9577549360669876"
            ]
          },
          "metadata": {},
          "execution_count": 27
        }
      ],
      "source": [
        "model.score(x_test,y_test)"
      ]
    },
    {
      "cell_type": "code",
      "execution_count": 28,
      "metadata": {
        "id": "0sDw6AKtoV_f",
        "colab": {
          "base_uri": "https://localhost:8080/"
        },
        "outputId": "0cc5b99e-ae3e-4dc6-ed4b-ed6f1a3ca95e"
      },
      "outputs": [
        {
          "output_type": "stream",
          "name": "stdout",
          "text": [
            "R2 score :  0.9577549360669876\n"
          ]
        }
      ],
      "source": [
        "# Calculating R2 score\n",
        "\n",
        "from sklearn.metrics import r2_score\n",
        "r1 = r2_score(y_test,rf_predict)\n",
        "print(\"R2 score : \",r1)"
      ]
    },
    {
      "cell_type": "code",
      "execution_count": 29,
      "metadata": {
        "id": "Fv1dCVRcoV_f",
        "colab": {
          "base_uri": "https://localhost:8080/"
        },
        "outputId": "df1467ba-fd3a-4a3a-97bb-97ad25a0e098"
      },
      "outputs": [
        {
          "output_type": "stream",
          "name": "stdout",
          "text": [
            "Adj. R-Squared : -134366.62704556112\n"
          ]
        }
      ],
      "source": [
        "# Calculating Adj. R2 score: \n",
        "\n",
        "Adjr2_1 = 1 - (1-r)*(len(y_test)-1)/(len(y_test)-x_test.shape[1]-1)\n",
        "print(\"Adj. R-Squared : {}\".format(Adjr2_1))"
      ]
    },
    {
      "cell_type": "code",
      "execution_count": 30,
      "metadata": {
        "id": "LLkzyEVsoV_f",
        "colab": {
          "base_uri": "https://localhost:8080/",
          "height": 402
        },
        "outputId": "27f6e301-4852-49a6-c765-4a875f6bd92f"
      },
      "outputs": [
        {
          "output_type": "stream",
          "name": "stderr",
          "text": [
            "/usr/local/lib/python3.8/dist-packages/seaborn/distributions.py:2619: FutureWarning: `distplot` is a deprecated function and will be removed in a future version. Please adapt your code to use either `displot` (a figure-level function with similar flexibility) or `kdeplot` (an axes-level function for kernel density plots).\n",
            "  warnings.warn(msg, FutureWarning)\n",
            "/usr/local/lib/python3.8/dist-packages/seaborn/distributions.py:2619: FutureWarning: `distplot` is a deprecated function and will be removed in a future version. Please adapt your code to use either `displot` (a figure-level function with similar flexibility) or `kdeplot` (an axes-level function for kernel density plots).\n",
            "  warnings.warn(msg, FutureWarning)\n"
          ]
        },
        {
          "output_type": "execute_result",
          "data": {
            "text/plain": [
              "Text(0.5, 1.0, 'Random Forest Regression')"
            ]
          },
          "metadata": {},
          "execution_count": 30
        },
        {
          "output_type": "display_data",
          "data": {
            "text/plain": [
              "<Figure size 432x288 with 1 Axes>"
            ],
            "image/png": "[encoded data removed]"
          },
          "metadata": {
            "needs_background": "light"
          }
        }
      ],
      "source": [
        "ax = sns.distplot(y_test, hist = False, color = \"r\", label = \"Actual value \")\n",
        "sns.distplot(rf_predict, hist = False, color = \"b\", label = \"Predicted Values\", ax = ax)\n",
        "plt.title('Random Forest Regression')"
      ]
    },
    {
      "cell_type": "markdown",
      "metadata": {
        "id": "wDjI-3TVoV_g"
      },
      "source": [
        "<b> Comparison between Linear Regression Algorithm and Random Forest Algorithm </b> "
      ]
    },
    {
      "cell_type": "markdown",
      "metadata": {
        "id": "KRzoWQ84oV_g"
      },
      "source": [
        "\n",
        "\n",
        "1. Linear regression algorithm is not at all accurate for this kind of prediction.\n",
        "2. Random Forest Algorithm has higher accuracy ( between 85 % to 90% ), but it is slow."
      ]
    },
    {
      "cell_type": "markdown",
      "metadata": {
        "id": "LA9DCluXoV_g"
      },
      "source": [
        "<b> Support Vector Regression </b> "
      ]
    },
    {
      "cell_type": "code",
      "execution_count": 31,
      "metadata": {
        "id": "Yv0GDUsFoV_g"
      },
      "outputs": [],
      "source": [
        "# Feature Scaling\n",
        "\n",
        "from sklearn.preprocessing import StandardScaler\n",
        "sc = StandardScaler()\n",
        "x_train = sc.fit_transform(x_train)\n",
        "x_test = sc.fit_transform(x_test)\n"
      ]
    },
    {
      "cell_type": "code",
      "execution_count": 32,
      "metadata": {
        "id": "clDT5H6OoV_g",
        "colab": {
          "base_uri": "https://localhost:8080/"
        },
        "outputId": "ef7c04af-8c09-4be6-db44-df62ffc02798"
      },
      "outputs": [
        {
          "output_type": "stream",
          "name": "stdout",
          "text": [
            "[[ 1.48595619 -0.23975403 -0.04335347 ... -0.00663427 -0.01707812\n",
            "  -0.05064325]\n",
            " [-1.53721105 -0.13355238 -0.04335347 ... -0.00663427 -0.01707812\n",
            "  -0.05064325]\n",
            " [-1.13412208 -0.18152459 -0.04335347 ... -0.00663427 -0.01707812\n",
            "  -0.05064325]\n",
            " ...\n",
            " [-0.12639967 -0.23922144 -0.04335347 ... -0.00663427 -0.01707812\n",
            "  -0.05064325]\n",
            " [ 1.08286723 -0.19097307 -0.04335347 ... -0.00663427 -0.01707812\n",
            "  -0.05064325]\n",
            " [-1.33566656 -0.23874803 -0.04335347 ... -0.00663427 -0.01707812\n",
            "  -0.05064325]]\n",
            "[[-0.93403377 -0.03987163 -0.04436049 ... -0.00574537 -0.01675257\n",
            "  -0.0461906 ]\n",
            " [-0.52983249 -0.21597811 -0.04436049 ... -0.00574537 -0.01675257\n",
            "  -0.0461906 ]\n",
            " [ 0.48067071 -0.21443929 -0.04436049 ... -0.00574537 -0.01675257\n",
            "  -0.0461906 ]\n",
            " ...\n",
            " [ 0.68277135 -0.22959368 -0.04436049 ... -0.00574537 -0.01675257\n",
            "  -0.0461906 ]\n",
            " [-0.12563121  0.06367688 -0.04436049 ... -0.00574537 -0.01675257\n",
            "  -0.0461906 ]\n",
            " [-0.12563121 -0.2348724  -0.04436049 ... -0.00574537 -0.01675257\n",
            "  -0.0461906 ]]\n"
          ]
        }
      ],
      "source": [
        "print(x_train)\n",
        "print(x_test)"
      ]
    },
    {
      "cell_type": "code",
      "execution_count": null,
      "metadata": {
        "id": "ht3dC6L4oV_g"
      },
      "outputs": [],
      "source": [
        "# Training the SVR model \n",
        "\n",
        "from sklearn.svm import SVR \n",
        "regressor = SVR(kernel = 'rbf')\n",
        "regressor.fit(x_train,y_train)"
      ]
    },
    {
      "cell_type": "code",
      "execution_count": null,
      "metadata": {
        "id": "7rbvUW6_oV_g"
      },
      "outputs": [],
      "source": [
        "# Predicting Result\n",
        "\n",
        "svr_predict = regressor.predict(x_test)\n",
        "svr_predict"
      ]
    },
    {
      "cell_type": "code",
      "execution_count": null,
      "metadata": {
        "id": "yv1C9LA_oV_h"
      },
      "outputs": [],
      "source": [
        "ax = sns.distplot(y_test, hist = False, color = \"r\", label = \"Actual value \")\n",
        "sns.distplot(svr_predict, hist = False, color = \"b\", label = \"Predicted Values\", ax = ax)\n",
        "plt.title('Support Vector Regression')"
      ]
    },
    {
      "cell_type": "markdown",
      "metadata": {
        "id": "0f3_qLcKoV_h"
      },
      "source": [
        "<b> Decision Tree </b>"
      ]
    },
    {
      "cell_type": "code",
      "execution_count": null,
      "metadata": {
        "id": "CX54XoPUoV_h"
      },
      "outputs": [],
      "source": [
        "# Training model \n",
        "from sklearn.tree import DecisionTreeRegressor\n",
        "regressor = DecisionTreeRegressor(random_state = 5)\n",
        "regressor.fit(x_train,y_train)\n",
        "\n",
        "# Predicting results\n",
        "decisiontree_predict = regressor.predict(x_test)\n",
        "decisiontree_predict"
      ]
    },
    {
      "cell_type": "code",
      "execution_count": null,
      "metadata": {
        "id": "MwyEC9IIoV_h"
      },
      "outputs": [],
      "source": [
        "regressor.score(x_test,y_test)"
      ]
    },
    {
      "cell_type": "code",
      "execution_count": null,
      "metadata": {
        "id": "hGRZ-PNNoV_h"
      },
      "outputs": [],
      "source": [
        "# Calculating R2 score :\n",
        "\n",
        "from sklearn.metrics import r2_score\n",
        "r2 = r2_score(y_test,decisiontree_predict)\n",
        "print(\"R2 score : \",r2)"
      ]
    },
    {
      "cell_type": "code",
      "execution_count": null,
      "metadata": {
        "id": "KK9w7Q2koV_h"
      },
      "outputs": [],
      "source": [
        "# Calculating Adj. R2 score: \n",
        "\n",
        "Adjr2_2 = 1 - (1-r)*(len(y_test)-1)/(len(y_test)-x_test.shape[1]-1)\n",
        "print(\"Adj. R-Squared : {}\".format(Adjr2_2))"
      ]
    },
    {
      "cell_type": "code",
      "execution_count": null,
      "metadata": {
        "id": "MlZBrgs8oV_i"
      },
      "outputs": [],
      "source": [
        "ax = sns.distplot(y_test, hist = False, color = \"r\", label = \"Actual value \")\n",
        "sns.distplot(decisiontree_predict, hist = False, color = \"b\", label = \"Predicted Values\", ax = ax)\n",
        "plt.title('Decision Tree Regression')"
      ]
    },
    {
      "cell_type": "markdown",
      "metadata": {
        "id": "zMIm0VA0oV_i"
      },
      "source": [
        "<b> Cross-validation </b> "
      ]
    },
    {
      "cell_type": "code",
      "execution_count": null,
      "metadata": {
        "id": "VEKMN-bzoV_i"
      },
      "outputs": [],
      "source": [
        "from sklearn.model_selection import cross_val_score\n",
        "accuracies = cross_val_score(estimator = model, X = x_train, y=y_train, cv = 10)"
      ]
    },
    {
      "cell_type": "code",
      "execution_count": null,
      "metadata": {
        "id": "jDt17gvroV_i"
      },
      "outputs": [],
      "source": [
        "a1 = (accuracies.mean()*100)\n",
        "b1 = (accuracies.std()*100)"
      ]
    },
    {
      "cell_type": "code",
      "execution_count": null,
      "metadata": {
        "id": "aF0yd17uoV_i"
      },
      "outputs": [],
      "source": [
        "\n",
        "# Mean Accuracy and SD of 10 fold results\n",
        "\n",
        "print(\"Accuracy : {:.2f}%\".format (accuracies.mean()*100))\n",
        "print(\"Standard Deviation : {:.2f}%\".format(accuracies.std()*100))"
      ]
    },
    {
      "cell_type": "markdown",
      "metadata": {
        "id": "09qK0mzZoV_i"
      },
      "source": [
        "<b> Cross-validation </b>"
      ]
    },
    {
      "cell_type": "code",
      "execution_count": null,
      "metadata": {
        "id": "waJRslHZoV_i"
      },
      "outputs": [],
      "source": [
        "from sklearn.model_selection import cross_val_score\n",
        "accuracies = cross_val_score(estimator = regressor, X = x_train, y=y_train)"
      ]
    },
    {
      "cell_type": "code",
      "execution_count": null,
      "metadata": {
        "id": "F-Jb0hQDoV_j"
      },
      "outputs": [],
      "source": [
        "a2 = (accuracies.mean()*100)\n",
        "b2 = (accuracies.std()*100)"
      ]
    },
    {
      "cell_type": "code",
      "execution_count": null,
      "metadata": {
        "id": "B1oYNppfoV_j"
      },
      "outputs": [],
      "source": [
        "print(\"Accuracy : {:.2f}%\".format (accuracies.mean()*100))\n",
        "print(\"Standard Deviation : {:.2f}%\".format(accuracies.std()*100))"
      ]
    },
    {
      "cell_type": "code",
      "execution_count": null,
      "metadata": {
        "id": "jph5twWNoV_j"
      },
      "outputs": [],
      "source": [
        "import numpy as np\n",
        "import matplotlib.pyplot as plt\n",
        " \n",
        "# create a dataset\n",
        "Algorithms = ['Random Forest', 'Decision-tree']\n",
        "Accuracy = [a1, a2]\n",
        "\n",
        "x_pos = np.arange(len(Accuracy))\n",
        "\n",
        "# Create bars with different colors\n",
        "plt.bar(x_pos, Accuracy, color=['#488AC7','#ff8c00'])\n",
        "\n",
        "# Create names on the x-axis\n",
        "plt.xticks(x_pos, Algorithms)\n",
        "plt.ylabel('Accuracy(in %)')\n",
        "plt.xlabel('Machine Learning Regression Techniques')\n",
        "\n",
        "# Show graph\n",
        "plt.show()"
      ]
    },
    {
      "cell_type": "code",
      "execution_count": null,
      "metadata": {
        "id": "PYSSyoN4oV_j"
      },
      "outputs": [],
      "source": [
        "import numpy as np\n",
        "import matplotlib.pyplot as plt\n",
        " \n",
        "# create a dataset\n",
        "Algorithms = ['Random Forest', 'Decision-tree']\n",
        "Accuracy = [b1, b2]\n",
        "\n",
        "x_pos = np.arange(len(Accuracy))\n",
        "\n",
        "# Create bars with different colors\n",
        "plt.bar(x_pos, Accuracy, color=['#488AC7','#ff8c00'])\n",
        "\n",
        "# Create names on the x-axis\n",
        "plt.xticks(x_pos, Algorithms)\n",
        "plt.ylabel('Standard Deviation(in %)')\n",
        "plt.xlabel('Machine Learning Regression Techniques')\n",
        "\n",
        "# Show graph\n",
        "plt.show()\n",
        "plt.savefig('SD.png')"
      ]
    },
    {
      "cell_type": "code",
      "execution_count": null,
      "metadata": {
        "id": "3oWA8TChoV_j"
      },
      "outputs": [],
      "source": [
        "import numpy as np\n",
        "import matplotlib.pyplot as plt\n",
        " \n",
        "# create a dataset\n",
        "Algorithms = ['Random Forest', 'Decision-tree']\n",
        "Accuracy = [Adjr2_1, Adjr2_2]\n",
        "\n",
        "x_pos = np.arange(len(Accuracy))\n",
        "\n",
        "# Create bars with different colors\n",
        "plt.bar(x_pos, Accuracy, color=['#488AC7','#ff8c00'])\n",
        "\n",
        "# Create names on the x-axis\n",
        "plt.xticks(x_pos, Algorithms)\n",
        "plt.ylabel('Standard Deviation(in %)')\n",
        "plt.xlabel('Machine Learning Regression Techniques')\n",
        "\n",
        "# Show graph\n",
        "plt.show()\n",
        "plt.savefig('SD.png')"
      ]
    },
    {
      "cell_type": "code",
      "execution_count": null,
      "metadata": {
        "id": "UeXwA93ioV_k"
      },
      "outputs": [],
      "source": [
        "import numpy as np\n",
        "import matplotlib.pyplot as plt\n",
        " \n",
        "# create a dataset\n",
        "Algorithms = ['Random Forest', 'Decision-tree']\n",
        "Accuracy = [r1, r2]\n",
        "\n",
        "x_pos = np.arange(len(Accuracy))\n",
        "\n",
        "# Create bars with different colors\n",
        "plt.bar(x_pos, Accuracy, color=['#488AC7','#ff8c00'])\n",
        "\n",
        "# Create names on the x-axis\n",
        "plt.xticks(x_pos, Algorithms)\n",
        "plt.ylabel('R-Squared Score')\n",
        "plt.xlabel('Machine Learning Regression Techniques')\n",
        "\n",
        "# Show graph\n",
        "plt.show()\n",
        "plt.savefig('SD.png')"
      ]
    },
    {
      "cell_type": "code",
      "execution_count": null,
      "metadata": {
        "id": "SsgIF-_3oV_k"
      },
      "outputs": [],
      "source": [
        "import numpy as np\n",
        "import matplotlib.pyplot as plt\n",
        " \n",
        "# create a dataset\n",
        "Algorithms = ['Random Forest', 'Decision-tree']\n",
        "Accuracy = [Adjr2_1, Adjr2_2]\n",
        "\n",
        "x_pos = np.arange(len(Accuracy))\n",
        "\n",
        "# Create bars with different colors\n",
        "plt.bar(x_pos, Accuracy, color=['#488AC7','#ff8c00'])\n",
        "\n",
        "# Create names on the x-axis\n",
        "plt.xticks(x_pos, Algorithms)\n",
        "plt.ylabel('Adjusted R-Squared Score')\n",
        "plt.xlabel('Machine Learning Regression Techniques')\n",
        "\n",
        "# Show graph\n",
        "plt.show()\n",
        "plt.savefig('SD.png')"
      ]
    },
    {
      "cell_type": "code",
      "execution_count": null,
      "metadata": {
        "id": "6Ss5oHa-oV_k"
      },
      "outputs": [],
      "source": [
        "mae = metrics.mean_absolute_error(y_test, y_pred)"
      ]
    },
    {
      "cell_type": "code",
      "execution_count": null,
      "metadata": {
        "id": "mx8yg3ysoV_k"
      },
      "outputs": [],
      "source": [
        "from sklearn import metrics\n",
        "print('Mean Absolute Error:', metrics.mean_absolute_error(rf_predict,y_test))  \n",
        "print('Mean Squared Error:', metrics.mean_squared_error(y_test, rf_predict))  \n",
        "print('Root Mean Squared Error:', np.sqrt(metrics.mean_squared_error(y_test, rf_predict)))"
      ]
    },
    {
      "cell_type": "code",
      "execution_count": null,
      "metadata": {
        "id": "n4e7yfR6oV_k"
      },
      "outputs": [],
      "source": [
        "import numpy as np\n",
        "import matplotlib.pyplot as plt\n",
        " \n",
        "# set width of bar\n",
        "barWidth = 0.25\n",
        "fig = plt.subplots(figsize =(8, 5))\n",
        " \n",
        "# set height of bar\n",
        "Algorithms = ['Random Forest', 'Decision-tree']\n",
        "Accuracy = [a1, a2]\n",
        "Standard_Deviation = [b1,b2]\n",
        " \n",
        "# Set position of bar on X axis\n",
        "br1 = np.arange(len(Accuracy))\n",
        "br2 = [x + barWidth for x in br1]\n",
        "br3 = [x + barWidth for x in br2]\n",
        " \n",
        "# Make the plot\n",
        "plt.bar(br1, Accuracy, color ='blue', width = barWidth,\n",
        "        edgecolor ='grey', label ='Accuracy')\n",
        "plt.bar(br2, Standard_Deviation, color ='maroon', width = barWidth,\n",
        "        edgecolor ='grey', label ='Standard Devation')\n",
        " \n",
        "# Adding Xticks\n",
        "plt.xlabel('Algorithms', fontweight ='bold', fontsize = 10)\n",
        "plt.ylabel('Accuracy (in %)', fontweight ='bold', fontsize = 10)\n",
        "plt.xticks([r + barWidth for r in range(len(Accuracy))],\n",
        "        Algorithms)\n",
        " \n",
        "plt.legend()\n",
        "plt.show()"
      ]
    },
    {
      "cell_type": "markdown",
      "metadata": {
        "id": "i17ENnLioV_l"
      },
      "source": [
        "<b> Hyperparameter Tuning using GridSearchCV </b>"
      ]
    },
    {
      "cell_type": "markdown",
      "metadata": {
        "id": "oq4VMCQMoV_l"
      },
      "source": [
        "Random Forest Regression "
      ]
    },
    {
      "cell_type": "code",
      "execution_count": null,
      "metadata": {
        "id": "BGpl4bPmoV_l"
      },
      "outputs": [],
      "source": [
        "from sklearn.model_selection import GridSearchCV\n",
        "\n",
        "# defining parameter range \n",
        "param_grid = {'C': [0.1, 1, 10, 100],  \n",
        "              'gamma': [1, 0.1, 0.01, 0.001, 0.0001], \n",
        "              'gamma':['auto'],\n",
        "              'kernel': ['rbf','linear']}  \n",
        "   \n",
        "reg = GridSearchCV(DecisionTreeRegressor(), param_grid, refit = True, verbose = 3,n_jobs=-1) \n",
        "   \n",
        "reg.fit(x_train,y_train)\n",
        "reg.grid_scores_"
      ]
    },
    {
      "cell_type": "code",
      "execution_count": null,
      "metadata": {
        "id": "j8OwQ8CPoV_l"
      },
      "outputs": [],
      "source": [
        "# CV results are not easy to use, \n",
        "# sklearn provides a way to download these results into a dataframe \n",
        "df = pd.DataFrame(reg.cv_results_)\n",
        "df\n"
      ]
    },
    {
      "cell_type": "code",
      "execution_count": null,
      "metadata": {
        "id": "MO-Nby4NoV_l"
      },
      "outputs": [],
      "source": [
        "df[['param_C','param_kernel','mean_test_score']]"
      ]
    },
    {
      "cell_type": "code",
      "execution_count": null,
      "metadata": {
        "id": "AnZ8s82aoV_m"
      },
      "outputs": [],
      "source": [
        "reg.best_score_"
      ]
    },
    {
      "cell_type": "code",
      "execution_count": null,
      "metadata": {
        "id": "rqcM_8ypoV_m"
      },
      "outputs": [],
      "source": [
        "reg.best_params_"
      ]
    },
    {
      "cell_type": "code",
      "execution_count": null,
      "metadata": {
        "id": "lNrg7XUHoV_m"
      },
      "outputs": [],
      "source": [
        "# To tackle the computation problem in gridsearch , \n",
        "# randomizedsearchcv comes in. Randomly tries value."
      ]
    },
    {
      "cell_type": "code",
      "execution_count": null,
      "metadata": {
        "id": "4a1rUtgioV_m"
      },
      "outputs": [],
      "source": [
        "from sklearn.model_selection import RandomizedSearchCV\n",
        "rs = RandomizedSearchCV(regressor(gamma='auto'),{\n",
        "    'c': [1,10,20],\n",
        "    'kernel' : ['rbf','linear']\n",
        "},\n",
        " cv = 5,\n",
        " return_train_score=False,\n",
        " n_iter=2\n",
        ")\n",
        "rs.fit(x_train,y_train)\n",
        "pd.DataFrame(rs.cv_results_)[['param_C','param_kernel','mean_test_score']]\n"
      ]
    },
    {
      "cell_type": "code",
      "execution_count": null,
      "metadata": {
        "id": "GNOgU64soV_m"
      },
      "outputs": [],
      "source": []
    },
    {
      "cell_type": "code",
      "execution_count": null,
      "metadata": {
        "id": "aCkarFHfoV_m"
      },
      "outputs": [],
      "source": []
    }
  ],
  "metadata": {
    "colab": {
      "provenance": []
    },
    "kernelspec": {
      "display_name": "Python 3",
      "language": "python",
      "name": "python3"
    },
    "language_info": {
      "codemirror_mode": {
        "name": "ipython",
        "version": 3
      },
      "file_extension": ".py",
      "mimetype": "text/x-python",
      "name": "python",
      "nbconvert_exporter": "python",
      "pygments_lexer": "ipython3",
      "version": "3.8.3"
    },
    "gpuClass": "standard"
  },
  "nbformat": 4,
  "nbformat_minor": 0
}